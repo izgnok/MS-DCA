{
 "cells": [
  {
   "cell_type": "code",
   "execution_count": null,
   "id": "8bb86a81",
   "metadata": {},
   "outputs": [],
   "source": [
    "# try - except 사용 - ZeroDivisionError\n",
    "try:\n",
    "  print(2 / 0)\n",
    "except ZeroDivisionError as e:\n",
    "  print(\"예외발생\")\n",
    "  print(e)"
   ]
  },
  {
   "cell_type": "code",
   "execution_count": null,
   "id": "859af52d",
   "metadata": {},
   "outputs": [],
   "source": [
    "# try - except 사용 - IndexError\n",
    "try:\n",
    "  list = []\n",
    "  print(list[0])\n",
    "except IndexError as e:\n",
    "  print('예외발생')\n",
    "  print(e)"
   ]
  },
  {
   "cell_type": "code",
   "execution_count": null,
   "id": "bcfa4126",
   "metadata": {},
   "outputs": [],
   "source": [
    "# try - except 사용 - IndexError\n",
    "try:\n",
    "  list = []\n",
    "  print(list[0])\n",
    "except IndexError as e:\n",
    "  print('예외발생')\n",
    "  print(e)"
   ]
  },
  {
   "cell_type": "code",
   "execution_count": null,
   "id": "7a5be007",
   "metadata": {},
   "outputs": [],
   "source": [
    "# try - except 사용 - FileNotFoundError\n",
    "try:\n",
    "  file = open('python.txt', 'r')\n",
    "except FileNotFoundError as e:\n",
    "  print('예외발생')\n",
    "  print(e)"
   ]
  },
  {
   "cell_type": "code",
   "execution_count": null,
   "id": "a750ca1b",
   "metadata": {},
   "outputs": [],
   "source": [
    "# try - except - else 사용\n",
    "try:\n",
    "  file = open('python.txt')\n",
    "except FileNotFoundError as e:\n",
    "  print('예외발생')\n",
    "  print(e)\n",
    "else:\n",
    "  print(file.read())"
   ]
  },
  {
   "cell_type": "code",
   "execution_count": null,
   "id": "5fe31f26",
   "metadata": {},
   "outputs": [],
   "source": [
    "# try - except - else 사용\n",
    "try:\n",
    "  file = open(\n",
    "    '../ch07/harry_potter.txt')\n",
    "except FileNotFoundError as e:\n",
    "  print('예외발생')\n",
    "  print(e)\n",
    "else:\n",
    "  print(file.read())"
   ]
  },
  {
   "cell_type": "code",
   "execution_count": null,
   "id": "7ac6ed70",
   "metadata": {},
   "outputs": [],
   "source": [
    "# try - except - finally 사용\n",
    "try:\n",
    "  file = open('../ch04/song.txt', encoding='utf8')\n",
    "  text = file.read()\n",
    "  print(text)\n",
    "  text += 1\n",
    "except FileNotFoundError as e:\n",
    "  print('오류발생', e)\n",
    "except TypeError as e:\n",
    "  print('오류발생', e)\n",
    "finally:\n",
    "  file.close()\n",
    "  print('file close')"
   ]
  },
  {
   "cell_type": "code",
   "execution_count": null,
   "id": "a6ed013a",
   "metadata": {},
   "outputs": [],
   "source": [
    "# 의도적인 오류 발생 - raise\n",
    "class Car:\n",
    "  def move(self):\n",
    "    raise NotImplementedError\n",
    "  \n",
    "class Taxi(Car):\n",
    "  pass\n",
    "\n",
    "taxi = Taxi()\n",
    "taxi.move()"
   ]
  },
  {
   "cell_type": "code",
   "execution_count": null,
   "id": "df406520",
   "metadata": {},
   "outputs": [],
   "source": [
    "class Car:\n",
    "  def move(self):\n",
    "    raise NotImplementedError\n",
    "  \n",
    "class Taxi(Car):\n",
    "  def move(self): # 오버라이드\n",
    "    print('fast move')\n",
    "\n",
    "taxi = Taxi()\n",
    "taxi.move()"
   ]
  },
  {
   "cell_type": "code",
   "execution_count": null,
   "id": "96da1188",
   "metadata": {},
   "outputs": [],
   "source": [
    "import random\n",
    "\n",
    "class CustomError(Exception):\n",
    "  def __init__(self, msg=''):\n",
    "    super().__init__(msg)\n",
    "\n",
    "num = random.randint(1, 10)\n",
    "\n",
    "if num > 5: raise CustomError('5보다 큰 숫자')\n",
    "else: print(num)"
   ]
  }
 ],
 "metadata": {
  "kernelspec": {
   "display_name": ".venv",
   "language": "python",
   "name": "python3"
  },
  "language_info": {
   "codemirror_mode": {
    "name": "ipython",
    "version": 3
   },
   "file_extension": ".py",
   "mimetype": "text/x-python",
   "name": "python",
   "nbconvert_exporter": "python",
   "pygments_lexer": "ipython3",
   "version": "3.13.7"
  }
 },
 "nbformat": 4,
 "nbformat_minor": 5
}
