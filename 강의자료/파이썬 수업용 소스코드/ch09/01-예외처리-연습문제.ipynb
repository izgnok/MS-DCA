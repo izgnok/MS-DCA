{
 "cells": [
  {
   "cell_type": "markdown",
   "id": "a9b33e80",
   "metadata": {},
   "source": [
    "### 데이터베이스를 활용하는 코드에 예외처리 적용하기\n",
    "1. SQL 표현이 잘못된 경우 예외처리<br>\n",
    "2. 어떤 경우로 종료가 되더라도 close()가 수행되도록 finally 처리"
   ]
  },
  {
   "cell_type": "code",
   "execution_count": null,
   "id": "2b1b1000",
   "metadata": {},
   "outputs": [],
   "source": [
    "import sqlite3\n",
    "conn = sqlite3.connect('geoje.db')\n",
    "\n",
    "cursor = conn.cursor()\n",
    "\n",
    "sql = '''\n",
    "  SELECT id, name, desc, mapinfo, latitude, longitude\n",
    "    FORM tour\n",
    "''' # FROM tour\n",
    "cursor.execute(sql)\n",
    "result = cursor.fetchmany(10)\n",
    "\n",
    "for row in result:\n",
    "  print(row[1], row[4], row[5])\n",
    "\n",
    "cursor.close()\n",
    "conn.close()"
   ]
  },
  {
   "cell_type": "markdown",
   "id": "b26b68ca",
   "metadata": {},
   "source": [
    "### 사용자 인증 기능 작성하기 \n",
    "- 조건 1) NotExistIdError, WrongPasswordError 클래스 작성\n",
    "- 조건 2) 오류 메시지를 전달할 수 있도록 생성자 작성\n",
    "- 조건 3) id/pw가 blue/1234가 아닌 경우\n",
    "        'ID를 확인해주세요', 'PW를 확인해주세요' 메시지 출력\n"
   ]
  },
  {
   "cell_type": "code",
   "execution_count": null,
   "id": "23cf82c8",
   "metadata": {},
   "outputs": [],
   "source": [
    "class NotExistIdError( ① ):\n",
    "  # 생성자 작성 ( ② )\n",
    "\n",
    "class WrongPasswordError( ③ ): \n",
    "  # 생성자 작성 ( ④ )\n",
    "\n",
    "def login(id, pw):\n",
    "  # id 비교 조건문 작성 ( ⑤ )\n",
    "    # 조건에 따라 예외 발생 ( ⑥ )\n",
    "    \n",
    "  # pw 비교 조건문 작성 ( ⑦ )\n",
    "    # 조건에 따라 예외 발생 ( ⑧ )\n",
    "\n",
    "  print('로그인 되었습니다.')\n",
    "\n",
    "login('blue', 1234)"
   ]
  }
 ],
 "metadata": {
  "kernelspec": {
   "display_name": ".venv",
   "language": "python",
   "name": "python3"
  },
  "language_info": {
   "codemirror_mode": {
    "name": "ipython",
    "version": 3
   },
   "file_extension": ".py",
   "mimetype": "text/x-python",
   "name": "python",
   "nbconvert_exporter": "python",
   "pygments_lexer": "ipython3",
   "version": "3.13.7"
  }
 },
 "nbformat": 4,
 "nbformat_minor": 5
}
