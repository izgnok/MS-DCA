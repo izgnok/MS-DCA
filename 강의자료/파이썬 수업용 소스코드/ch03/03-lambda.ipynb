{
 "cells": [
  {
   "cell_type": "code",
   "execution_count": 1,
   "id": "cedb2796",
   "metadata": {},
   "outputs": [
    {
     "name": "stdout",
     "output_type": "stream",
     "text": [
      "30\n"
     ]
    }
   ],
   "source": [
    "def plus(a, b):\n",
    "  return a + b\n",
    "result = plus(10, 20)\n",
    "print(result)"
   ]
  },
  {
   "cell_type": "code",
   "execution_count": 2,
   "id": "1a68fe48",
   "metadata": {},
   "outputs": [
    {
     "name": "stdout",
     "output_type": "stream",
     "text": [
      "30\n"
     ]
    }
   ],
   "source": [
    "plus = lambda a, b: a + b\n",
    "result = plus(10, 20)\n",
    "print(result)"
   ]
  },
  {
   "cell_type": "code",
   "execution_count": 3,
   "id": "be798349",
   "metadata": {},
   "outputs": [
    {
     "name": "stdout",
     "output_type": "stream",
     "text": [
      "['date', 'apple', 'banana', 'cherry']\n"
     ]
    }
   ],
   "source": [
    "# 리스트 정렬에서 key로 사용\n",
    "words = [\"banana\", \"apple\", \"cherry\", \"date\"]\n",
    "# 문자열 길이 기준으로 정렬\n",
    "words.sort(key=lambda w: len(w))\n",
    "print(words)  # ['date', 'apple', 'banana', 'cherry']"
   ]
  },
  {
   "cell_type": "code",
   "execution_count": 4,
   "id": "e73f8fac",
   "metadata": {},
   "outputs": [
    {
     "name": "stdout",
     "output_type": "stream",
     "text": [
      "[1, 4, 9, 16, 25]\n",
      "[2, 4]\n"
     ]
    }
   ],
   "source": [
    "# map, filter, reduce와 함께\n",
    "\n",
    "# map: 모든 원소에 함수 적용\n",
    "nums = [1, 2, 3, 4, 5]\n",
    "squared = list(map(lambda x: x**2, nums))\n",
    "print(squared)  # [1, 4, 9, 16, 25]\n",
    "\n",
    "# filter: 조건에 맞는 원소만\n",
    "evens = list(filter(lambda x: x % 2 == 0, nums))\n",
    "print(evens)    # [2, 4]"
   ]
  },
  {
   "cell_type": "code",
   "execution_count": 5,
   "id": "0e90bd75",
   "metadata": {},
   "outputs": [
    {
     "name": "stdout",
     "output_type": "stream",
     "text": [
      "('Bob', 90)\n"
     ]
    }
   ],
   "source": [
    "# 정렬된 튜플에서 최대값 찾기\n",
    "students = [(\"Alice\", 85), (\"Bob\", 90), (\"Tom\", 70)]\n",
    "# 점수가 가장 높은 학생\n",
    "top = max(students, key=lambda x: x[1])\n",
    "print(top)  # ('Bob', 90)"
   ]
  }
 ],
 "metadata": {
  "kernelspec": {
   "display_name": ".venv",
   "language": "python",
   "name": "python3"
  },
  "language_info": {
   "codemirror_mode": {
    "name": "ipython",
    "version": 3
   },
   "file_extension": ".py",
   "mimetype": "text/x-python",
   "name": "python",
   "nbconvert_exporter": "python",
   "pygments_lexer": "ipython3",
   "version": "3.13.7"
  }
 },
 "nbformat": 4,
 "nbformat_minor": 5
}
