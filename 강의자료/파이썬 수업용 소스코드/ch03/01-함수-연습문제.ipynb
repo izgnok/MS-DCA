{
 "cells": [
  {
   "cell_type": "markdown",
   "id": "a28e4bf6",
   "metadata": {},
   "source": [
    "### 하나의 숫자를 입력받아 홀인지 짝인지 판단하는 함수 작성"
   ]
  },
  {
   "cell_type": "code",
   "execution_count": null,
   "id": "8496ff15",
   "metadata": {},
   "outputs": [],
   "source": [
    "# 함수 작성 코드\n",
    "\n",
    "# 함수 호출 예)\n",
    "print(is_odd(3))\n",
    "print(is_odd(4))"
   ]
  },
  {
   "cell_type": "markdown",
   "id": "fba2dc51",
   "metadata": {},
   "source": [
    "### 1 이상의 정수 N을 입력받은 후 1 ~ N 까지의 합을 구하는 함수 작성"
   ]
  },
  {
   "cell_type": "code",
   "execution_count": null,
   "id": "299a413f",
   "metadata": {},
   "outputs": [],
   "source": [
    "# 함수 작성 코드\n",
    "\n",
    "# 함수 호출 예)   \n",
    "print(total(10))"
   ]
  },
  {
   "cell_type": "markdown",
   "id": "6371da6a",
   "metadata": {},
   "source": [
    "### 숫자 요소를 가지는 리스트를 입력받은 후 합과 평균을 구하고 튜플 형태로 반환하는 함수 작성\n"
   ]
  },
  {
   "cell_type": "code",
   "execution_count": null,
   "id": "42b3e0e3",
   "metadata": {},
   "outputs": [],
   "source": [
    "# 함수 작성 코드\n",
    "\n",
    "# 함수 호출 예)\n",
    "print(calculator([3, 7, 9, 11]))"
   ]
  },
  {
   "cell_type": "markdown",
   "id": "bbfbfb2b",
   "metadata": {},
   "source": [
    "### 아래와 같은 수열이 있을 때 N번째 수열의 값을 구하는 함수 작성\n",
    "1<br>\n",
    "1+(1+2)<br>\n",
    "1+(1+2)+(1+2+3)<br>\n",
    "1+(1+2)+(1+2+3)+(1+2+3+4)<br>\n",
    "⋮<br>\n",
    "1+(1+2)+(1+2+3)+(1+2+3+4)+...+(1+...+n)"
   ]
  },
  {
   "cell_type": "code",
   "execution_count": null,
   "id": "6d05c7dd",
   "metadata": {},
   "outputs": [],
   "source": []
  },
  {
   "cell_type": "markdown",
   "id": "568766a2",
   "metadata": {},
   "source": [
    "### 문자열의 가운데 글자를 반환하는 함수 작성\n",
    "조건 1) functions와 같은 홀수 길이가 입력되면 가운데 한 글자 반환 → t<br>\n",
    "조건 2) python과 같은 짝수 길이가 입력되면 가운데 두 글자 반환 → th"
   ]
  },
  {
   "cell_type": "code",
   "execution_count": null,
   "id": "6122dc9e",
   "metadata": {},
   "outputs": [],
   "source": []
  },
  {
   "cell_type": "markdown",
   "id": "a8c022cd",
   "metadata": {},
   "source": [
    "### 길이가 N이고, 수박수박수박수...와 같은 패턴을 반환하는 함수 작성\n",
    "입력 예)    출력 예)<br>\n",
    "  n=3        수박수<br>\n",
    "  n=4        수박수박<br>\n",
    "  n=7        수박수박수박수<br>\n",
    "  n=11       수박수박수박수박수박수"
   ]
  },
  {
   "cell_type": "code",
   "execution_count": null,
   "id": "12fbea7e",
   "metadata": {},
   "outputs": [],
   "source": []
  },
  {
   "cell_type": "markdown",
   "id": "2c6b69e4",
   "metadata": {},
   "source": [
    "### 자연수 N이 주어지면 N의 각 자리 수 합을 구하는 함수 작성\n",
    "입력 예)    출력 예)<br>\n",
    "  n=124       7<br>\n",
    "  n=79        16<br>\n",
    "  n=12345     15<br>\n",
    "  n=13579     25"
   ]
  },
  {
   "cell_type": "code",
   "execution_count": null,
   "id": "5a40fb71",
   "metadata": {},
   "outputs": [],
   "source": []
  }
 ],
 "metadata": {
  "kernelspec": {
   "display_name": ".venv",
   "language": "python",
   "name": "python3"
  },
  "language_info": {
   "codemirror_mode": {
    "name": "ipython",
    "version": 3
   },
   "file_extension": ".py",
   "mimetype": "text/x-python",
   "name": "python",
   "nbconvert_exporter": "python",
   "pygments_lexer": "ipython3",
   "version": "3.13.7"
  }
 },
 "nbformat": 4,
 "nbformat_minor": 5
}
