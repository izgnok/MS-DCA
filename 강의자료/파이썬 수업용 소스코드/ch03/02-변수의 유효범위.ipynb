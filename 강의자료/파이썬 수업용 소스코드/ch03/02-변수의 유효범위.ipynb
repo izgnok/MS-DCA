{
 "cells": [
  {
   "cell_type": "code",
   "execution_count": 1,
   "id": "ca2ba540",
   "metadata": {},
   "outputs": [
    {
     "ename": "NameError",
     "evalue": "name 'a' is not defined",
     "output_type": "error",
     "traceback": [
      "\u001b[31m---------------------------------------------------------------------------\u001b[39m",
      "\u001b[31mNameError\u001b[39m                                 Traceback (most recent call last)",
      "\u001b[36mCell\u001b[39m\u001b[36m \u001b[39m\u001b[32mIn[1]\u001b[39m\u001b[32m, line 6\u001b[39m\n\u001b[32m      3\u001b[39m   b = a + \u001b[32m2\u001b[39m\n\u001b[32m      4\u001b[39m   \u001b[38;5;28;01mreturn\u001b[39;00m b\n\u001b[32m----> \u001b[39m\u001b[32m6\u001b[39m \u001b[38;5;28mprint\u001b[39m(\u001b[43ma\u001b[49m)\n\u001b[32m      7\u001b[39m \u001b[38;5;28mprint\u001b[39m(b)\n",
      "\u001b[31mNameError\u001b[39m: name 'a' is not defined"
     ]
    }
   ],
   "source": [
    "# 함수 안에서 변수 선언 (지역변수)\n",
    "def func(a):\n",
    "  b = a + 2\n",
    "  return b\n",
    "  \n",
    "print(a)\n",
    "print(b)"
   ]
  },
  {
   "cell_type": "code",
   "execution_count": null,
   "id": "8994c12b",
   "metadata": {},
   "outputs": [
    {
     "name": "stdout",
     "output_type": "stream",
     "text": [
      "12\n"
     ]
    }
   ],
   "source": [
    "# 함수 밖에서 변수 선언 (전역변수)\n",
    "outer_a = 0\n",
    "\n",
    "def func(a):\n",
    "  b = a + 2\n",
    "  return b\n",
    "\n",
    "outer_a = func(10)\n",
    "print(outer_a)"
   ]
  },
  {
   "cell_type": "code",
   "execution_count": 3,
   "id": "96c055de",
   "metadata": {},
   "outputs": [
    {
     "name": "stdout",
     "output_type": "stream",
     "text": [
      "함수 내부 12\n",
      "함수 외부 0\n"
     ]
    }
   ],
   "source": [
    "# 전역변수를 함수 내부에서 사용\n",
    "outer_a = 0\n",
    "def func(a):\n",
    "  outer_a = a + 2\n",
    "  print('함수 내부', outer_a)\n",
    "func(10)\n",
    "print('함수 외부', outer_a)"
   ]
  },
  {
   "cell_type": "code",
   "execution_count": null,
   "id": "c7865dea",
   "metadata": {},
   "outputs": [],
   "source": [
    "# 전역변수를 함수 내부에서 변경하는 경우 global 키워드 사용\n",
    "outer_a = 0\n",
    "def func(a):\n",
    "  global outer_a\n",
    "  outer_a = a + 2\n",
    "  print('함수 내부', outer_a)\n",
    "func(10)\n",
    "print('함수 외부', outer_a)"
   ]
  }
 ],
 "metadata": {
  "kernelspec": {
   "display_name": ".venv",
   "language": "python",
   "name": "python3"
  },
  "language_info": {
   "codemirror_mode": {
    "name": "ipython",
    "version": 3
   },
   "file_extension": ".py",
   "mimetype": "text/x-python",
   "name": "python",
   "nbconvert_exporter": "python",
   "pygments_lexer": "ipython3",
   "version": "3.13.7"
  }
 },
 "nbformat": 4,
 "nbformat_minor": 5
}
