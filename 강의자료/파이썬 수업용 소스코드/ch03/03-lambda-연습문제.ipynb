{
 "cells": [
  {
   "cell_type": "markdown",
   "id": "d8b3bfe1",
   "metadata": {},
   "source": [
    "### 문자열의 길이를 반환하는 lambda 함수 작성하기"
   ]
  },
  {
   "cell_type": "code",
   "execution_count": null,
   "id": "0a7f767c",
   "metadata": {},
   "outputs": [],
   "source": [
    "string_length = (    )\n",
    "print(string_length(\"hello\"))   # 5\n",
    "print(string_length(\"python\"))  # 6"
   ]
  },
  {
   "cell_type": "markdown",
   "id": "01404833",
   "metadata": {},
   "source": [
    "### 주어진 숫자가 짝수인지 홀수인지를 판별하는 lambda 함수 작성하기"
   ]
  },
  {
   "cell_type": "code",
   "execution_count": null,
   "id": "a26f973b",
   "metadata": {},
   "outputs": [],
   "source": [
    "check_even_odd = (    )\n",
    "\n",
    "print(check_even_odd(7))   # \"홀수\"\n",
    "print(check_even_odd(10))  # \"짝수\""
   ]
  },
  {
   "cell_type": "markdown",
   "id": "53bde06c",
   "metadata": {},
   "source": [
    "### 아래의 함수를 lambda와 List Comprehension을 사용하는 함수로 작성"
   ]
  },
  {
   "cell_type": "code",
   "execution_count": null,
   "id": "7e10cd2b",
   "metadata": {},
   "outputs": [],
   "source": [
    "def myfunc(numbers):\n",
    "  result = []\n",
    "  for number in numbers:\n",
    "    if number > 5:\n",
    "      result.append(number)\n",
    "  return result\n",
    "  \n",
    "result = myfunc([2, 3, 4, 5, 6, 7, 8])\n",
    "print(result)"
   ]
  }
 ],
 "metadata": {
  "kernelspec": {
   "display_name": ".venv",
   "language": "python",
   "name": "python3"
  },
  "language_info": {
   "codemirror_mode": {
    "name": "ipython",
    "version": 3
   },
   "file_extension": ".py",
   "mimetype": "text/x-python",
   "name": "python",
   "nbconvert_exporter": "python",
   "pygments_lexer": "ipython3",
   "version": "3.13.7"
  }
 },
 "nbformat": 4,
 "nbformat_minor": 5
}
