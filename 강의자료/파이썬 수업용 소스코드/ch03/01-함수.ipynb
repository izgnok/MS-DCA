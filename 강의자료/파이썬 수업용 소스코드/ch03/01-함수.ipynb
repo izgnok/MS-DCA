{
 "cells": [
  {
   "cell_type": "code",
   "execution_count": 21,
   "id": "f3a8f46f",
   "metadata": {},
   "outputs": [
    {
     "name": "stdout",
     "output_type": "stream",
     "text": [
      "15\n"
     ]
    }
   ],
   "source": [
    "# 두 수를 입력받아 합을 구하는 함수\n",
    "def plus(a, b):\n",
    "  return a + b\n",
    "x = 10\n",
    "y = 5\n",
    "result = plus(x, y) # result = plus(10, 5)\n",
    "print(result)"
   ]
  },
  {
   "cell_type": "code",
   "execution_count": 22,
   "id": "1e9a7e4b",
   "metadata": {},
   "outputs": [
    {
     "name": "stdout",
     "output_type": "stream",
     "text": [
      "240 80.0\n"
     ]
    }
   ],
   "source": [
    "# 함수를 호출 할 때 매개변수를 지정하여 호출\n",
    "def total(a, b, c):\n",
    "  return a + b + c\n",
    "def average(num, count):\n",
    "  return num / count\n",
    "num = total(a=90, b=80, c=70) # 매개변수 지정 후 값 입력\n",
    "avg = average(count=3, num=num) # 순서 상관없이 입력 가능\n",
    "print(num, avg)"
   ]
  },
  {
   "cell_type": "code",
   "execution_count": 23,
   "id": "7c33b6f2",
   "metadata": {},
   "outputs": [
    {
     "name": "stdout",
     "output_type": "stream",
     "text": [
      "6\n",
      "15\n"
     ]
    }
   ],
   "source": [
    "# 입력되는 값의 개수에 따라 동적으로 처리\n",
    "def total(*args): # Tuple 형태로 전달\n",
    "  total = 0\n",
    "  for n in args:\n",
    "    total += n\n",
    "  return total\n",
    "num = total(1, 2, 3)\n",
    "print(num)\n",
    "num = total(1, 2, 3, 4, 5)\n",
    "print(num)"
   ]
  },
  {
   "cell_type": "code",
   "execution_count": 24,
   "id": "8e9301c0",
   "metadata": {},
   "outputs": [
    {
     "name": "stdout",
     "output_type": "stream",
     "text": [
      "{'a': 1, 'b': 2, 'c': 3}\n"
     ]
    }
   ],
   "source": [
    "# 키워드 파라미터\n",
    "def func(**kwargs): # Dictionary 형태로 저장\n",
    "  print(kwargs)\n",
    "func(a=1, b=2, c=3)"
   ]
  },
  {
   "cell_type": "code",
   "execution_count": 25,
   "id": "8e0473b0",
   "metadata": {},
   "outputs": [
    {
     "name": "stdout",
     "output_type": "stream",
     "text": [
      "('a', 'b') {'a': 1, 'b': 2, 'c': 3}\n"
     ]
    }
   ],
   "source": [
    "# 가변 인자 방식과 키워드 파라미터 방식을 함께 사용\n",
    "def func(*args, **kwargs): # Tuple, Dictionary\n",
    "  print(args, kwargs)\n",
    "func('a', 'b', a=1, b=2, c=3)"
   ]
  },
  {
   "cell_type": "code",
   "execution_count": 26,
   "id": "031e8a4f",
   "metadata": {},
   "outputs": [
    {
     "name": "stdout",
     "output_type": "stream",
     "text": [
      "ggoreb 20 True\n",
      "ggoreb 20 False\n"
     ]
    }
   ],
   "source": [
    "# 매개변수 기본값 지정\n",
    "def setInfo(name, age, isPass=True):\n",
    "  print(name, age, isPass)\n",
    "setInfo('ggoreb', 20)\n",
    "setInfo('ggoreb', 20, False)"
   ]
  },
  {
   "cell_type": "code",
   "execution_count": 27,
   "id": "6a3ca33e",
   "metadata": {},
   "outputs": [
    {
     "name": "stdout",
     "output_type": "stream",
     "text": [
      "a\n"
     ]
    }
   ],
   "source": [
    "# 결과값의 여러가지 반환 형태 - 일반적인 형태\n",
    "def funcA():\n",
    "  return 'a'\n",
    "retA = funcA()\n",
    "print(retA)"
   ]
  },
  {
   "cell_type": "code",
   "execution_count": 28,
   "id": "7dfdb722",
   "metadata": {},
   "outputs": [
    {
     "name": "stdout",
     "output_type": "stream",
     "text": [
      "('a', 'b')\n",
      "a b\n"
     ]
    }
   ],
   "source": [
    "# 결과값의 여러가지 반환 형태 - 2개 이상의 값 반환 (튜플)\n",
    "def funcB():\n",
    "  return 'a', 'b' # Tuple 형태로 반환\n",
    "retB = funcB() # Tuple 형태로 저장\n",
    "print(retB)\n",
    "retB1, retB2 = funcB() # 각 변수에 따로 저장\n",
    "print(retB1, retB2)"
   ]
  },
  {
   "cell_type": "code",
   "execution_count": 29,
   "id": "13c3afd6",
   "metadata": {},
   "outputs": [
    {
     "name": "stdout",
     "output_type": "stream",
     "text": [
      "a\n"
     ]
    }
   ],
   "source": [
    "# 결과값의 여러가지 반환 형태 - 함수 반환\n",
    "def a():\n",
    "  print('a')\n",
    "\n",
    "def b():\n",
    "  return a\n",
    "b()()"
   ]
  },
  {
   "cell_type": "code",
   "execution_count": null,
   "id": "8e64b564",
   "metadata": {},
   "outputs": [
    {
     "name": "stdout",
     "output_type": "stream",
     "text": [
      "0 으로 나눌 수 없습니다 .\n",
      "None\n"
     ]
    }
   ],
   "source": [
    "# 결과값의 여러가지 반환 형태 - return 키워드 단독 사용\n",
    "def divide(a, b):\n",
    "  if b == 0: # 나누는 수(제수) 가 0 인 경우\n",
    "    print('0 으로 나눌 수 없습니다.')\n",
    "    return # 강제 종료\n",
    "  return a / b\n",
    "result = divide(4, 0) # result = None\n",
    "print(result)"
   ]
  },
  {
   "cell_type": "code",
   "execution_count": 1,
   "id": "0bb6dae1",
   "metadata": {},
   "outputs": [],
   "source": [
    "# 함수에서의 타입 힌트\n",
    "def add(a, b):\n",
    "  return a + b"
   ]
  },
  {
   "cell_type": "code",
   "execution_count": 2,
   "id": "eee14d90",
   "metadata": {},
   "outputs": [],
   "source": [
    "# 함수에서의 타입 힌트\n",
    "def add(a: int, b: int) -> int:\n",
    "  return a + b"
   ]
  },
  {
   "cell_type": "code",
   "execution_count": 3,
   "id": "264021b1",
   "metadata": {},
   "outputs": [],
   "source": [
    "# 매개변수: 리스트, 반환: 실수\n",
    "def average(scores: list[int]) -> float:\n",
    "  return sum(scores) / len(scores)"
   ]
  }
 ],
 "metadata": {
  "kernelspec": {
   "display_name": ".venv",
   "language": "python",
   "name": "python3"
  },
  "language_info": {
   "codemirror_mode": {
    "name": "ipython",
    "version": 3
   },
   "file_extension": ".py",
   "mimetype": "text/x-python",
   "name": "python",
   "nbconvert_exporter": "python",
   "pygments_lexer": "ipython3",
   "version": "3.13.7"
  }
 },
 "nbformat": 4,
 "nbformat_minor": 5
}
