{
 "cells": [
  {
   "cell_type": "markdown",
   "id": "c4ca22dc",
   "metadata": {},
   "source": [
    "### 현재 작업 디렉토리에 \"practice\" 폴더를 만들고 그 안에 \"hello.txt\" 파일을 생성하기\n",
    "\"hello.txt\" 파일 내용 → Hello, Python!"
   ]
  },
  {
   "cell_type": "code",
   "execution_count": null,
   "id": "98d9ad2f",
   "metadata": {},
   "outputs": [],
   "source": [
    "# 코드 작성\n"
   ]
  },
  {
   "cell_type": "markdown",
   "id": "85100cbc",
   "metadata": {},
   "source": [
    "### 현재 폴더 안에서 파일 이름에 \"s\"가 들어간 파일만 찾기"
   ]
  },
  {
   "cell_type": "code",
   "execution_count": null,
   "id": "b93a4d85",
   "metadata": {},
   "outputs": [],
   "source": [
    "# 코드 작성\n"
   ]
  },
  {
   "cell_type": "markdown",
   "id": "01145c50",
   "metadata": {},
   "source": [
    "### 학생 점수 데이터가 들어 있는 CSV 파일 \"scores.csv\"를 읽어 각 학생의 평균 점수 출력하기\n",
    "제목행을 건너뛰려면 next() 함수 사용"
   ]
  },
  {
   "cell_type": "code",
   "execution_count": null,
   "id": "84310ab1",
   "metadata": {},
   "outputs": [],
   "source": [
    "# 코드 작성\n"
   ]
  },
  {
   "cell_type": "markdown",
   "id": "2b5cc70c",
   "metadata": {},
   "source": [
    "### JSON 문자열에서 이름만 리스트로 추출하기"
   ]
  },
  {
   "cell_type": "code",
   "execution_count": null,
   "id": "2295f07d",
   "metadata": {},
   "outputs": [],
   "source": [
    "# 코드 작성\n"
   ]
  },
  {
   "cell_type": "markdown",
   "id": "5131dd34",
   "metadata": {},
   "source": [
    "### 2012년 3월 27일에서 5000일 후 날짜를 \"YYYY/MM/DD\" 형식으로 출력하기"
   ]
  },
  {
   "cell_type": "code",
   "execution_count": null,
   "id": "f135363f",
   "metadata": {},
   "outputs": [],
   "source": [
    "# 코드 작성\n"
   ]
  },
  {
   "cell_type": "markdown",
   "id": "87e00c38",
   "metadata": {},
   "source": [
    "### 문자열 \"9월 30일 14시 20분\"을 datetime 객체로 변환하여 \n",
    "### \"2025-09-30 14:20:00\" 형식으로 출력하기"
   ]
  },
  {
   "cell_type": "code",
   "execution_count": null,
   "id": "b6f046b9",
   "metadata": {},
   "outputs": [],
   "source": [
    "# 코드 작성\n"
   ]
  },
  {
   "cell_type": "markdown",
   "id": "caae3b4a",
   "metadata": {},
   "source": [
    "### 동전 앞/뒤를 무작위로 10번 던져 나온 결과를 리스트로 저장하기"
   ]
  },
  {
   "cell_type": "code",
   "execution_count": null,
   "id": "ef213606",
   "metadata": {},
   "outputs": [],
   "source": [
    "# 코드 작성\n"
   ]
  },
  {
   "cell_type": "markdown",
   "id": "f15be7fd",
   "metadata": {},
   "source": [
    "### 주사위를 2개 동시에 던져서 두 눈의 합이 7이 될 때까지 반복하고 시도한 횟수 출력하기"
   ]
  },
  {
   "cell_type": "code",
   "execution_count": null,
   "id": "54bb15c8",
   "metadata": {},
   "outputs": [],
   "source": [
    "# 코드 작성\n"
   ]
  }
 ],
 "metadata": {
  "kernelspec": {
   "display_name": ".venv",
   "language": "python",
   "name": "python3"
  },
  "language_info": {
   "codemirror_mode": {
    "name": "ipython",
    "version": 3
   },
   "file_extension": ".py",
   "mimetype": "text/x-python",
   "name": "python",
   "nbconvert_exporter": "python",
   "pygments_lexer": "ipython3",
   "version": "3.13.7"
  }
 },
 "nbformat": 4,
 "nbformat_minor": 5
}
