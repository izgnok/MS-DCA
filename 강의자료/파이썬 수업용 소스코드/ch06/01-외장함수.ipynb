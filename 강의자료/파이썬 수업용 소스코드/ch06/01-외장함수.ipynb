{
 "cells": [
  {
   "cell_type": "code",
   "execution_count": 1,
   "id": "ff9618e4",
   "metadata": {},
   "outputs": [
    {
     "name": "stdout",
     "output_type": "stream",
     "text": [
      "/Users/ggoreb/study/python/practice/ch06\n"
     ]
    }
   ],
   "source": [
    "import os\n",
    "print(os.getcwd())"
   ]
  },
  {
   "cell_type": "code",
   "execution_count": 7,
   "id": "d430d413",
   "metadata": {},
   "outputs": [
    {
     "name": "stdout",
     "output_type": "stream",
     "text": [
      "프로그램 시작\n",
      "/Users/ggoreb/study/python/practice/ch06\n",
      "[]\n",
      "['01-외장함수.ipynb']\n"
     ]
    },
    {
     "ename": "SystemExit",
     "evalue": "",
     "output_type": "error",
     "traceback": [
      "An exception has occurred, use %tb to see the full traceback.\n",
      "\u001b[31mSystemExit\u001b[39m\n"
     ]
    }
   ],
   "source": [
    "print(\"프로그램 시작\")\n",
    "\n",
    "# os : 현재 작업 디렉토리 확인\n",
    "import os\n",
    "print(os.getcwd())\n",
    "\n",
    "# pathlib : 디렉토리 생성\n",
    "from pathlib import Path\n",
    "Path(\"my_folder\").mkdir(exist_ok=True)\n",
    "\n",
    "# glob : 특정 확장자 파일 찾기\n",
    "import glob\n",
    "print(glob.glob(\"*.py\"))      # 현재 폴더의 파이썬 파일 목록\n",
    "print(glob.glob(\"*.ipynb\"))   # 현재 폴더의 Jupyter Notebook 파일 목록\n",
    "\n",
    "# sys : 프로그램 종료\n",
    "import sys\n",
    "sys.exit()"
   ]
  },
  {
   "cell_type": "code",
   "execution_count": 9,
   "id": "1b725745",
   "metadata": {},
   "outputs": [
    {
     "name": "stdout",
     "output_type": "stream",
     "text": [
      "['name', 'age', 'grade', 'score']\n",
      "['Alice', '20', '2', '85']\n",
      "['Bob', '21', '3', '90']\n",
      "['Charlie', '19', '1', '78']\n",
      "['David', '22', '4', '92']\n",
      "['Eva', '20', '2', '88']\n",
      "Alice 25\n",
      "[1, 2, 3]\n"
     ]
    }
   ],
   "source": [
    "# csv : 파일 읽기\n",
    "import csv\n",
    "with open(\"students.csv\", encoding=\"utf8\") as f:\n",
    "  reader = csv.reader(f)\n",
    "  for row in reader:\n",
    "    print(row)\n",
    "\n",
    "# json : 문자열 → 파이썬 객체\n",
    "import json\n",
    "data = '{\"name\":\"Alice\",\"age\":25}'\n",
    "obj = json.loads(data)\n",
    "print(obj[\"name\"], obj[\"age\"])\n",
    "\n",
    "# pickle : 객체 저장/복원\n",
    "import pickle\n",
    "nums = [1, 2, 3]\n",
    "with open(\"nums.pkl\", \"wb\") as f:\n",
    "  pickle.dump(nums, f)\n",
    "\n",
    "with open(\"nums.pkl\", \"rb\") as f:\n",
    "  print(pickle.load(f))"
   ]
  },
  {
   "cell_type": "code",
   "execution_count": 13,
   "id": "6a94d7ee",
   "metadata": {},
   "outputs": [
    {
     "name": "stdout",
     "output_type": "stream",
     "text": [
      "0\n",
      "1\n",
      "2\n",
      "2025-09-30 09:25:55\n",
      "2025 9 29 15 30\n",
      "   September 2025\n",
      "Mo Tu We Th Fr Sa Su\n",
      " 1  2  3  4  5  6  7\n",
      " 8  9 10 11 12 13 14\n",
      "15 16 17 18 19 20 21\n",
      "22 23 24 25 26 27 28\n",
      "29 30\n",
      "\n"
     ]
    }
   ],
   "source": [
    "import time\n",
    "\n",
    "# time : 1초마다 출력\n",
    "for i in range(3):\n",
    "  print(i)\n",
    "  time.sleep(1)\n",
    "\n",
    "import datetime\n",
    "\n",
    "# datetime : 현재 날짜/시간\n",
    "now = datetime.datetime.now()\n",
    "print(now.strftime(\"%Y-%m-%d %H:%M:%S\"))\n",
    "\n",
    "from dateutil.parser import parse\n",
    "\n",
    "# dateutil : 문자열 → datetime 변환\n",
    "date_str = \"2025-09-29 15:30:00\"\n",
    "dt = parse(date_str)\n",
    "print(dt.year, dt.month, dt.day, dt.hour, dt.minute)  \n",
    "# 2025 9 29 15 30\n",
    "\n",
    "import calendar\n",
    "\n",
    "# calendar : 특정 달의 달력 출력\n",
    "print(calendar.month(2025, 9))"
   ]
  },
  {
   "cell_type": "code",
   "execution_count": null,
   "id": "c2f648ac",
   "metadata": {},
   "outputs": [
    {
     "name": "stdout",
     "output_type": "stream",
     "text": [
      "2022-12-01 11:12:13\n"
     ]
    }
   ],
   "source": [
    "d = datetime.datetime.strptime(\n",
    "  '2022년12월01일 11시12분13초', '%Y년%m월%d일 %H시%M분%S초')\n",
    "print(d)  # 2022-12-01 11:12:13"
   ]
  },
  {
   "cell_type": "code",
   "execution_count": 18,
   "id": "53b46c45",
   "metadata": {},
   "outputs": [
    {
     "name": "stdout",
     "output_type": "stream",
     "text": [
      "2022-12-01 12:13:14\n",
      "2022-12-01 00:00:00\n",
      "2001-12-22 00:00:00\n",
      "2001-12-22 00:00:00\n",
      "2022-12-01 14:30:00\n",
      "2022-12-01 00:00:00\n",
      "2022-12-01 00:00:00\n",
      "2022-12-01 23:59:00\n"
     ]
    }
   ],
   "source": [
    "from dateutil.parser import parse\n",
    "print(parse('2022-12-01 12:13:14'))  # 2022-12-01 12:13:14\n",
    "print(parse(\"2022-12-01\"))           # 2022-12-01 00:00:00\n",
    "print(parse(\"22-12-1\"))              # 2022-12-01 00:00:00\n",
    "print(parse(\"22/12/01\"))             # 2022-12-01 00:00:00\n",
    "print(parse(\"2022/12/1 14:30\"))      # 2022-12-01 14:30:00\n",
    "print(parse(\"Dec 1, 2022\"))          # 2022-12-01 00:00:00\n",
    "print(parse(\"1 December 2022\"))      # 2022-12-01 00:00:00\n",
    "print(parse(\"2022.12.01 23:59\"))     # 2022-12-01 23:59:00"
   ]
  },
  {
   "cell_type": "code",
   "execution_count": 17,
   "id": "482adcf0",
   "metadata": {},
   "outputs": [
    {
     "name": "stdout",
     "output_type": "stream",
     "text": [
      "1010 days, 10:38:42.866463\n",
      "['__abs__', '__add__', '__bool__', '__class__', '__delattr__', '__dir__', '__divmod__', '__doc__', '__eq__', '__floordiv__', '__format__', '__ge__', '__getattribute__', '__getstate__', '__gt__', '__hash__', '__init__', '__init_subclass__', '__le__', '__lt__', '__mod__', '__mul__', '__ne__', '__neg__', '__new__', '__pos__', '__radd__', '__rdivmod__', '__reduce__', '__reduce_ex__', '__repr__', '__rfloordiv__', '__rmod__', '__rmul__', '__rsub__', '__rtruediv__', '__setattr__', '__sizeof__', '__str__', '__sub__', '__subclasshook__', '__truediv__', 'days', 'max', 'microseconds', 'min', 'resolution', 'seconds', 'total_seconds']\n",
      "1010\n",
      "87302322.866463\n",
      "2026-01-08 10:38:42.867583\n"
     ]
    }
   ],
   "source": [
    "# 날짜를 지정하여 datetime 생성\n",
    "dt1 = datetime.datetime(2022, 12, 25)\n",
    "dt2 = datetime.datetime.now()\n",
    "result = dt2 - dt1\n",
    "print(result)\n",
    "\n",
    "# 각 정보 출력\n",
    "print(dir(result))\n",
    "print(result.days)\n",
    "print(result.total_seconds())\n",
    "\n",
    "# datetime.timedelta()\n",
    "now_time = datetime.datetime.now()\n",
    "add_time = datetime.timedelta(days=100)\n",
    "print(now_time + add_time)"
   ]
  },
  {
   "cell_type": "markdown",
   "id": "ac2d9253",
   "metadata": {},
   "source": []
  },
  {
   "cell_type": "code",
   "execution_count": 19,
   "id": "ca8cc560",
   "metadata": {},
   "outputs": [
    {
     "name": "stdout",
     "output_type": "stream",
     "text": [
      "주사위: 4\n",
      "[3, 1, 5, 4, 2]\n",
      "red\n",
      "20\n"
     ]
    }
   ],
   "source": [
    "# random : 주사위 굴리기\n",
    "import random\n",
    "dice = random.randint(1, 6)\n",
    "print(\"주사위:\", dice)\n",
    "\n",
    "# random : 리스트 섞기\n",
    "items = [1, 2, 3, 4, 5]\n",
    "random.shuffle(items)\n",
    "print(items)\n",
    "\n",
    "# random : 무작위 선택\n",
    "colors = [\"red\", \"blue\", \"green\"]\n",
    "print(random.choice(colors))\n",
    "\n",
    "# statistics : 평균\n",
    "import statistics\n",
    "nums = [10, 20, 30]\n",
    "print(statistics.mean(nums))  # 20"
   ]
  },
  {
   "cell_type": "code",
   "execution_count": 12,
   "id": "54054b7d",
   "metadata": {},
   "outputs": [
    {
     "name": "stdout",
     "output_type": "stream",
     "text": [
      "['010-1234-5678']\n"
     ]
    }
   ],
   "source": [
    "import re\n",
    "\n",
    "text = \"My phone: 010-1234-5678\"\n",
    "pattern = r\"\\d{3}-\\d{4}-\\d{4}\"\n",
    "\n",
    "result = re.findall(pattern, text)\n",
    "print(result)  # ['010-1234-5678']"
   ]
  }
 ],
 "metadata": {
  "kernelspec": {
   "display_name": ".venv",
   "language": "python",
   "name": "python3"
  },
  "language_info": {
   "codemirror_mode": {
    "name": "ipython",
    "version": 3
   },
   "file_extension": ".py",
   "mimetype": "text/x-python",
   "name": "python",
   "nbconvert_exporter": "python",
   "pygments_lexer": "ipython3",
   "version": "3.13.7"
  }
 },
 "nbformat": 4,
 "nbformat_minor": 5
}
