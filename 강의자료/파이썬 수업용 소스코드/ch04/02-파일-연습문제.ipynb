{
 "cells": [
  {
   "cell_type": "markdown",
   "id": "fa90591d",
   "metadata": {},
   "source": [
    "### numbers_data.txt의 내용을 읽은 후 숫자들의 합 구하기"
   ]
  },
  {
   "cell_type": "code",
   "execution_count": null,
   "id": "a2ad5291",
   "metadata": {},
   "outputs": [],
   "source": [
    "# 코드 작성"
   ]
  },
  {
   "cell_type": "markdown",
   "id": "c5a7dff5",
   "metadata": {},
   "source": [
    "### text_data.txt의 내용을 읽은 후 알파벳 t가 포함된 단어만 출력하기"
   ]
  },
  {
   "cell_type": "code",
   "execution_count": null,
   "id": "81746d50",
   "metadata": {},
   "outputs": [],
   "source": [
    "# 코드 작성"
   ]
  },
  {
   "cell_type": "code",
   "execution_count": null,
   "id": "5ee3d11f",
   "metadata": {},
   "outputs": [],
   "source": [
    "# matplotlib 설치\n",
    "%pip install matplotlib"
   ]
  },
  {
   "cell_type": "code",
   "execution_count": null,
   "id": "c9918c16",
   "metadata": {},
   "outputs": [],
   "source": [
    "# 코드 작성 - 서울시 기온 데이터 읽어오기\n",
    "\n",
    "# 코드 작성 - date_list(날짜 리스트)와 min_list(최저기온 리스트) 데이터 가공\n",
    "\n",
    "# matplotlib.pyplot 모듈 가져오기\n",
    "import matplotlib.pyplot as plt\n",
    "\n",
    "# 한글 폰트 설정\n",
    "plt.rcParams['font.family'] = \\\n",
    "    ['Malgun Gothic', 'AppleGothic', 'NanumGothic', 'sans-serif']\n",
    "plt.rcParams['axes.unicode_minus'] = False\n",
    "\n",
    "# 그래프 그리기\n",
    "plt.plot(min_list)\n",
    "plt.xticks(\n",
    "    range(len(min_list)), date_list, rotation=45)\n",
    "plt.show()"
   ]
  }
 ],
 "metadata": {
  "kernelspec": {
   "display_name": ".venv",
   "language": "python",
   "name": "python3"
  },
  "language_info": {
   "codemirror_mode": {
    "name": "ipython",
    "version": 3
   },
   "file_extension": ".py",
   "mimetype": "text/x-python",
   "name": "python",
   "nbconvert_exporter": "python",
   "pygments_lexer": "ipython3",
   "version": "3.13.7"
  }
 },
 "nbformat": 4,
 "nbformat_minor": 5
}
