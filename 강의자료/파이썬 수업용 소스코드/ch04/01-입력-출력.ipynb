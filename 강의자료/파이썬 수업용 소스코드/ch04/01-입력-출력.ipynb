{
 "cells": [
  {
   "cell_type": "code",
   "execution_count": null,
   "id": "d9e2feed",
   "metadata": {},
   "outputs": [],
   "source": [
    "# 사용자가 입력한 값을 문자열로 저장\n",
    "text = input()\n",
    "print(text)\n",
    "print(type(text))"
   ]
  },
  {
   "cell_type": "code",
   "execution_count": null,
   "id": "13806b0a",
   "metadata": {},
   "outputs": [],
   "source": [
    "# 안내 문구 출력 후 사용자 입력\n",
    "text = input('내용을 입력해주세요.')\n",
    "print(text)\n",
    "print(type(text))"
   ]
  },
  {
   "cell_type": "code",
   "execution_count": 1,
   "id": "d97c3dac",
   "metadata": {},
   "outputs": [
    {
     "name": "stdout",
     "output_type": "stream",
     "text": [
      "123\n",
      "python\n",
      "[1, 2, 'a', 'b']\n",
      "(1, 2, 'a', 'b')\n"
     ]
    }
   ],
   "source": [
    "# 특정 값을 화면에 출력\n",
    "num = 123\n",
    "print(num)\n",
    "s = 'python'\n",
    "print(s)\n",
    "lst = [1, 2, 'a', 'b']\n",
    "print(lst)\n",
    "tup = (1, 2, 'a', 'b')\n",
    "print(tup)"
   ]
  },
  {
   "cell_type": "code",
   "execution_count": 2,
   "id": "ddbc7155",
   "metadata": {},
   "outputs": [
    {
     "name": "stdout",
     "output_type": "stream",
     "text": [
      "Lifeistooshort\n",
      "Lifeistooshort\n",
      "Life is too short\n",
      "Life is too short\n"
     ]
    }
   ],
   "source": [
    "# space, comma, plus 연산자 사용\n",
    "print('Life' 'is' 'too' 'short')\n",
    "print('Life' + 'is' + 'too' + 'short')\n",
    "print('Life ' 'is ' 'too ' 'short')\n",
    "print('Life', 'is', 'too', 'short')"
   ]
  },
  {
   "cell_type": "code",
   "execution_count": 3,
   "id": "9e41e8e3",
   "metadata": {},
   "outputs": [
    {
     "name": "stdout",
     "output_type": "stream",
     "text": [
      "Life is too short "
     ]
    }
   ],
   "source": [
    "# 결과값을 한줄로 출력 (줄바꿈 X)\n",
    "print('Life', end=' ')\n",
    "print('is', end=' ')\n",
    "print('too', end=' ')\n",
    "print('short', end=' ')"
   ]
  },
  {
   "cell_type": "code",
   "execution_count": 4,
   "id": "1ba31f08",
   "metadata": {},
   "outputs": [
    {
     "name": "stdout",
     "output_type": "stream",
     "text": [
      "1번째 2번째 3번째 4번째 5번째 6번째 7번째 8번째 9번째 10번째 "
     ]
    }
   ],
   "source": [
    "# 반복문 결과 한줄 출력\n",
    "for i in range(1, 11):\n",
    "  print(str(i) + '번째', end = ' ')"
   ]
  }
 ],
 "metadata": {
  "kernelspec": {
   "display_name": ".venv",
   "language": "python",
   "name": "python3"
  },
  "language_info": {
   "codemirror_mode": {
    "name": "ipython",
    "version": 3
   },
   "file_extension": ".py",
   "mimetype": "text/x-python",
   "name": "python",
   "nbconvert_exporter": "python",
   "pygments_lexer": "ipython3",
   "version": "3.13.7"
  }
 },
 "nbformat": 4,
 "nbformat_minor": 5
}
