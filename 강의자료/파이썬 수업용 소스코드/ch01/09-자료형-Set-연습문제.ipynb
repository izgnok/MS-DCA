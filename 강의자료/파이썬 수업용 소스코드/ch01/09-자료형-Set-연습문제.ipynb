{
 "cells": [
  {
   "cell_type": "markdown",
   "id": "a28e4bf6",
   "metadata": {},
   "source": [
    "### 두 개의 집합에서 공통 요소만 출력하기 (교집합)"
   ]
  },
  {
   "cell_type": "code",
   "execution_count": null,
   "id": "8496ff15",
   "metadata": {},
   "outputs": [],
   "source": [
    "lotto_num1 = {6, 12, 17, 21, 34, 37}\n",
    "lotto_num2 = {6, 12, 19, 24, 34, 41}\n"
   ]
  },
  {
   "cell_type": "markdown",
   "id": "ff65aa75",
   "metadata": {},
   "source": [
    "### Set을 활용하여 List 요소의 중복 데이터 제거하기"
   ]
  },
  {
   "cell_type": "code",
   "execution_count": null,
   "id": "1087b715",
   "metadata": {},
   "outputs": [],
   "source": [
    "num_list = [9, 7, 11, 26, 15, 9, 15, 26]\n"
   ]
  }
 ],
 "metadata": {
  "kernelspec": {
   "display_name": ".venv",
   "language": "python",
   "name": "python3"
  },
  "language_info": {
   "codemirror_mode": {
    "name": "ipython",
    "version": 3
   },
   "file_extension": ".py",
   "mimetype": "text/x-python",
   "name": "python",
   "nbconvert_exporter": "python",
   "pygments_lexer": "ipython3",
   "version": "3.13.7"
  }
 },
 "nbformat": 4,
 "nbformat_minor": 5
}
