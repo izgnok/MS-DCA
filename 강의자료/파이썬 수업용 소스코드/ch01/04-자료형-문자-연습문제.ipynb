{
 "cells": [
  {
   "cell_type": "markdown",
   "id": "aab73dd2",
   "metadata": {},
   "source": [
    "### \"Life\" is too short, You need 'Python' 출력하기"
   ]
  },
  {
   "cell_type": "code",
   "execution_count": null,
   "id": "e3e4cbd8",
   "metadata": {},
   "outputs": [],
   "source": []
  },
  {
   "cell_type": "markdown",
   "id": "b9765055",
   "metadata": {},
   "source": [
    "###  아래와 같은 문자열에서 \"short\"라는 문자열이 시작되는 위치(인덱스) 구하기"
   ]
  },
  {
   "cell_type": "code",
   "execution_count": null,
   "id": "d4ca09fc",
   "metadata": {},
   "outputs": [],
   "source": [
    "s = 'Life is too short, You need Python'\n"
   ]
  },
  {
   "cell_type": "markdown",
   "id": "e5ec53c1",
   "metadata": {},
   "source": [
    "### 공백 문자를 기준으로 문자열을 리스트로 변환하기"
   ]
  },
  {
   "cell_type": "code",
   "execution_count": null,
   "id": "c9f30560",
   "metadata": {},
   "outputs": [],
   "source": [
    "s = 'Life is too short, You need Python'\n"
   ]
  },
  {
   "cell_type": "markdown",
   "id": "5f53e876",
   "metadata": {},
   "source": [
    "### a + b + c 연산하기"
   ]
  },
  {
   "cell_type": "code",
   "execution_count": null,
   "id": "6cc2b072",
   "metadata": {},
   "outputs": [],
   "source": [
    "# a b c\n",
    "value = '77 77 7777'\n"
   ]
  }
 ],
 "metadata": {
  "kernelspec": {
   "display_name": ".venv",
   "language": "python",
   "name": "python3"
  },
  "language_info": {
   "codemirror_mode": {
    "name": "ipython",
    "version": 3
   },
   "file_extension": ".py",
   "mimetype": "text/x-python",
   "name": "python",
   "nbconvert_exporter": "python",
   "pygments_lexer": "ipython3",
   "version": "3.13.7"
  }
 },
 "nbformat": 4,
 "nbformat_minor": 5
}
