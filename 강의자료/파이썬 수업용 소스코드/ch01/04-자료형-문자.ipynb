{
 "cells": [
  {
   "cell_type": "code",
   "execution_count": 1,
   "id": "8db8ff22",
   "metadata": {},
   "outputs": [
    {
     "name": "stdout",
     "output_type": "stream",
     "text": [
      "Hello Python\n",
      "Hello Python\n"
     ]
    }
   ],
   "source": [
    "# 더하기 연산\n",
    "print('Hello' + ' Python')\n",
    "print('Hello' + ' ' + 'Python')"
   ]
  },
  {
   "cell_type": "code",
   "execution_count": 2,
   "id": "a7f70137",
   "metadata": {},
   "outputs": [
    {
     "name": "stdout",
     "output_type": "stream",
     "text": [
      "HelloHelloHello\n",
      "HelloHello Python\n"
     ]
    }
   ],
   "source": [
    "# 곱하기 연산\n",
    "print('Hello' * 3)\n",
    "print('Hello' * 2 + ' Python')"
   ]
  },
  {
   "cell_type": "code",
   "execution_count": 3,
   "id": "6781683c",
   "metadata": {},
   "outputs": [
    {
     "name": "stdout",
     "output_type": "stream",
     "text": [
      "H\n",
      "P\n",
      "n\n",
      "P\n",
      "H\n"
     ]
    }
   ],
   "source": [
    "# Indexing\n",
    "text = 'Hello Python'\n",
    "print(text[0])\n",
    "print(text[6])\n",
    "print(text[-1])\n",
    "print(text[-6])\n",
    "print(text[-12])"
   ]
  },
  {
   "cell_type": "code",
   "execution_count": 4,
   "id": "853d54b7",
   "metadata": {},
   "outputs": [
    {
     "name": "stdout",
     "output_type": "stream",
     "text": [
      "Hello Python\n",
      "Python\n",
      "Hello\n",
      "Hello Py\n",
      "Py\n"
     ]
    }
   ],
   "source": [
    "# Slicing\n",
    "text = 'Hello Python'\n",
    "print(text[0:])\n",
    "print(text[6:])\n",
    "print(text[:5])\n",
    "print(text[:-4])\n",
    "print(text[-6:-4])\n"
   ]
  },
  {
   "cell_type": "code",
   "execution_count": 5,
   "id": "d8d9b59f",
   "metadata": {},
   "outputs": [
    {
     "name": "stdout",
     "output_type": "stream",
     "text": [
      "2012년03월25일\n"
     ]
    }
   ],
   "source": [
    "# Slicing\n",
    "date = '2012 03 25'\n",
    "print( date[0:4] + '년' + date[5:7] + '월' + date[8:] + '일' )"
   ]
  },
  {
   "cell_type": "code",
   "execution_count": 6,
   "id": "356ad76f",
   "metadata": {},
   "outputs": [
    {
     "name": "stdout",
     "output_type": "stream",
     "text": [
      "Python version 3.13.7\n",
      "Python version 3.13.7\n"
     ]
    }
   ],
   "source": [
    "# % 기호 사용\n",
    "text = 'Python version %s'\n",
    "print(text % '3.13.7')\n",
    "text = 'Python version %s.%s.%s'\n",
    "print(text % (3, 13, 7))"
   ]
  },
  {
   "cell_type": "code",
   "execution_count": 7,
   "id": "f50c48fa",
   "metadata": {},
   "outputs": [
    {
     "name": "stdout",
     "output_type": "stream",
     "text": [
      "Python version 3.13.7\n",
      "Python version 3.13.7\n",
      "Python version 3.13.7\n"
     ]
    }
   ],
   "source": [
    "# {index} 또는 {name} 사용\n",
    "text = 'Python version {}'\n",
    "print(text.format('3.13.7'))\n",
    "text = 'Python version {0}.{1}.{2}'\n",
    "print(text.format(3, 13, 7))\n",
    "text = 'Python version {a}.{b}.{c}'\n",
    "print(text.format(a=3, b=13, c=7))"
   ]
  },
  {
   "cell_type": "code",
   "execution_count": 8,
   "id": "d3856d64",
   "metadata": {},
   "outputs": [
    {
     "name": "stdout",
     "output_type": "stream",
     "text": [
      "Python version 3.13.7\n",
      "Python version 3.13.7\n"
     ]
    }
   ],
   "source": [
    "# f'문자열' 사용\n",
    "version = '3.13.7'\n",
    "print(f'Python version {version}')\n",
    "a = 3\n",
    "b = 13\n",
    "c = 7\n",
    "print(f'Python version {a}.{b}.{c}')"
   ]
  },
  {
   "cell_type": "code",
   "execution_count": 9,
   "id": "eeda1606",
   "metadata": {},
   "outputs": [
    {
     "name": "stdout",
     "output_type": "stream",
     "text": [
      "2\n",
      "3\n",
      "1\n",
      "6\n",
      "5\n",
      "2\n",
      "0\n"
     ]
    }
   ],
   "source": [
    "# count() - 특정 문자의 개수\n",
    "text = 'Life is too short, You need Python'\n",
    "print( text.count('i') )\n",
    "print( text.count('e') )\n",
    "print( text.count('Y') )\n",
    "print( text.count(' ') )\n",
    "print( text.count(' ', 5) )\n",
    "print( text.count(' ', 5, 12) )\n",
    "print( text.count('X') )"
   ]
  },
  {
   "cell_type": "code",
   "execution_count": 10,
   "id": "ab826d5e",
   "metadata": {},
   "outputs": [
    {
     "name": "stdout",
     "output_type": "stream",
     "text": [
      "1\n",
      "4\n",
      "7\n",
      "11\n",
      "-1\n"
     ]
    }
   ],
   "source": [
    "# find() - 특정 문자의 위치\n",
    "text = 'Life is too short, You need Python'\n",
    "print( text.find('i') )\n",
    "print( text.find(' ') )\n",
    "print( text.find(' ', 5) )\n",
    "print( text.find(' ', 8, 12) )\n",
    "print( text.find('X') )"
   ]
  },
  {
   "cell_type": "code",
   "execution_count": 11,
   "id": "14f37d41",
   "metadata": {},
   "outputs": [
    {
     "name": "stdout",
     "output_type": "stream",
     "text": [
      "1\n",
      "4\n",
      "7\n",
      "11\n",
      "-1\n"
     ]
    }
   ],
   "source": [
    "# find() - 특정 문자의 위치\n",
    "text = 'Life is too short, You need Python'\n",
    "print( text.find('i') )\n",
    "print( text.find(' ') )\n",
    "print( text.find(' ', 5) )\n",
    "print( text.find(' ', 8, 12) )\n",
    "print( text.find('X') )"
   ]
  },
  {
   "cell_type": "code",
   "execution_count": 12,
   "id": "c6b61f0b",
   "metadata": {},
   "outputs": [
    {
     "name": "stdout",
     "output_type": "stream",
     "text": [
      " space\n",
      "space \n",
      "space\n"
     ]
    }
   ],
   "source": [
    "# strip(), rstrip(), lstrip() : 공백 제거\n",
    "text = ' space '\n",
    "print( text.rstrip() )\n",
    "print( text.lstrip() )\n",
    "print( text.strip() )"
   ]
  },
  {
   "cell_type": "code",
   "execution_count": 13,
   "id": "4bd829c2",
   "metadata": {},
   "outputs": [
    {
     "name": "stdout",
     "output_type": "stream",
     "text": [
      "L1fe 1s too short, You need Python\n",
      "Life is too short\n",
      "You need Python\n"
     ]
    }
   ],
   "source": [
    "# replace() : 문자열 치환\n",
    "text = 'Life is too short, You need Python'\n",
    "print( text.replace('i', '1') )\n",
    "print( text.replace(', ', '\\n') )"
   ]
  },
  {
   "cell_type": "code",
   "execution_count": 14,
   "id": "3b7e03b2",
   "metadata": {},
   "outputs": [
    {
     "name": "stdout",
     "output_type": "stream",
     "text": [
      "{105: 49}\n"
     ]
    }
   ],
   "source": [
    "# maketrans() : 문자열 치환 (ASCII 코드값으로 테이블 생성)\n",
    "text = 'Life is too short, You need Python'\n",
    "table = str.maketrans('i', '1')\n",
    "print(table)"
   ]
  },
  {
   "cell_type": "code",
   "execution_count": 17,
   "id": "b9fc6d0e",
   "metadata": {},
   "outputs": [
    {
     "name": "stdout",
     "output_type": "stream",
     "text": [
      "L1fe 1s too short, You need Python\n"
     ]
    }
   ],
   "source": [
    "# translate() : Dictionary 형태의 테이블에 따라 문자열 치환\n",
    "text = 'Life is too short, You need Python'\n",
    "table = str.maketrans('i', '1')\n",
    "trans = text.translate(table)\n",
    "print(trans)"
   ]
  },
  {
   "cell_type": "code",
   "execution_count": 15,
   "id": "f67e8139",
   "metadata": {},
   "outputs": [
    {
     "name": "stdout",
     "output_type": "stream",
     "text": [
      "['Life', 'is', 'too', 'short,', 'You', 'need', 'Python']\n",
      "['Life is too short', 'You need Python']\n",
      "['Life is t', '', ' sh', 'rt, Y', 'u need Pyth', 'n']\n"
     ]
    }
   ],
   "source": [
    "# split() : 특정 문자열을 기준으로 전체 문자열을 리스트로 변경\n",
    "text = 'Life is too short, You need Python'\n",
    "print( text.split(' ') )\n",
    "print( text.split(', ') )\n",
    "print( text.split('o') )"
   ]
  },
  {
   "cell_type": "code",
   "execution_count": 16,
   "id": "121e0caf",
   "metadata": {},
   "outputs": [
    {
     "name": "stdout",
     "output_type": "stream",
     "text": [
      "Life is too short, You need Python\n"
     ]
    }
   ],
   "source": [
    "# join() : 리스트를 문자열로 변경\n",
    "items = ['Life', 'is', 'too', 'short,', 'You', 'need', 'Python']\n",
    "print( ' '.join(items) )"
   ]
  },
  {
   "cell_type": "code",
   "execution_count": 18,
   "id": "fd6c8e0b",
   "metadata": {},
   "outputs": [
    {
     "name": "stdout",
     "output_type": "stream",
     "text": [
      "123\n",
      "False\n",
      "[1, 2, 3]\n",
      "{'a': 1, 'b': 2, 'c': 3}\n"
     ]
    }
   ],
   "source": [
    "# str() : 다른 자료형을 문자열로 변환\n",
    "print( str(123) )\n",
    "print( str(False) )\n",
    "print( str([1, 2, 3]) )\n",
    "print( str({'a': 1, 'b': 2, 'c': 3}) )"
   ]
  }
 ],
 "metadata": {
  "kernelspec": {
   "display_name": ".venv",
   "language": "python",
   "name": "python3"
  },
  "language_info": {
   "codemirror_mode": {
    "name": "ipython",
    "version": 3
   },
   "file_extension": ".py",
   "mimetype": "text/x-python",
   "name": "python",
   "nbconvert_exporter": "python",
   "pygments_lexer": "ipython3",
   "version": "3.13.7"
  }
 },
 "nbformat": 4,
 "nbformat_minor": 5
}
