{
 "cells": [
  {
   "cell_type": "code",
   "execution_count": null,
   "id": "4b7426b3",
   "metadata": {},
   "outputs": [],
   "source": [
    "set1 = set()\n",
    "set2 = { 1, 2, 3 }\n",
    "set3 = set( 'Python' )  # ← 한 글자 씩 분리되어 집 합 요 소로 생성\n",
    "set4 = set( ['a', 'b', 'c'] )  # ← List\n",
    "set5 = set( (1, 2, 3) )  # ← Tuple\n",
    "set6 = set( {'a' : 1, 'b' : 2} )  # ← Dictionary, 각 key만 집합요소로 생성"
   ]
  },
  {
   "cell_type": "code",
   "execution_count": 1,
   "id": "73a74cba",
   "metadata": {},
   "outputs": [
    {
     "name": "stdout",
     "output_type": "stream",
     "text": [
      "{1, 2, 3, '나', 'a', '가', 'b'}\n",
      "{1, 2, 3, '나', 'x', 'y', 'a', '가', 'z', 'b'}\n"
     ]
    },
    {
     "ename": "TypeError",
     "evalue": "'set' object is not subscriptable",
     "output_type": "error",
     "traceback": [
      "\u001b[31m---------------------------------------------------------------------------\u001b[39m",
      "\u001b[31mTypeError\u001b[39m                                 Traceback (most recent call last)",
      "\u001b[36mCell\u001b[39m\u001b[36m \u001b[39m\u001b[32mIn[1]\u001b[39m\u001b[32m, line 7\u001b[39m\n\u001b[32m      5\u001b[39m s.update([\u001b[33m'\u001b[39m\u001b[33mz\u001b[39m\u001b[33m'\u001b[39m, \u001b[33m'\u001b[39m\u001b[33my\u001b[39m\u001b[33m'\u001b[39m, \u001b[33m'\u001b[39m\u001b[33mx\u001b[39m\u001b[33m'\u001b[39m])\n\u001b[32m      6\u001b[39m \u001b[38;5;28mprint\u001b[39m(s)\n\u001b[32m----> \u001b[39m\u001b[32m7\u001b[39m \u001b[43ms\u001b[49m\u001b[43m[\u001b[49m\u001b[32;43m0\u001b[39;49m\u001b[43m]\u001b[49m \u001b[38;5;66;03m# 조회 불가\u001b[39;00m\n\u001b[32m      8\u001b[39m s += {\u001b[32m3\u001b[39m} \u001b[38;5;66;03m# 연산자를 통한 값 추가 불가\u001b[39;00m\n",
      "\u001b[31mTypeError\u001b[39m: 'set' object is not subscriptable"
     ]
    }
   ],
   "source": [
    "# Set 요소 추가\n",
    "s = set(['a', 'b', 1, 2, '가', '나', 'a', 1, '가'])\n",
    "s.add(3)\n",
    "print(s)\n",
    "s.update(['z', 'y', 'x'])\n",
    "print(s)\n",
    "s[0] # 조회 불가\n",
    "s += {3} # 연산자를 통한 값 추가 불가"
   ]
  },
  {
   "cell_type": "code",
   "execution_count": 2,
   "id": "b83f8489",
   "metadata": {},
   "outputs": [
    {
     "name": "stdout",
     "output_type": "stream",
     "text": [
      "1\n",
      "{'나', 'a', '가', 'b'}\n",
      "set()\n"
     ]
    }
   ],
   "source": [
    "# Set 요소 삭제\n",
    "s = set(['a', 'b', 1, 2, '가', '나', 'a', 1, '가'])\n",
    "print(s.pop())  # 마지막 요소 (삭제 + 조회)\n",
    "s.remove(2)\n",
    "print(s)\n",
    "s.clear()\n",
    "print(s)"
   ]
  },
  {
   "cell_type": "code",
   "execution_count": 3,
   "id": "f86d2000",
   "metadata": {},
   "outputs": [
    {
     "name": "stdout",
     "output_type": "stream",
     "text": [
      "{3, 4, 5}\n",
      "{3, 4, 5}\n"
     ]
    }
   ],
   "source": [
    "# 교집합\n",
    "a = set([1, 2, 3, 4, 5])\n",
    "b = set([3, 4, 5, 6, 7])\n",
    "print(a & b)\n",
    "print(a.intersection(b))"
   ]
  },
  {
   "cell_type": "code",
   "execution_count": 4,
   "id": "01dec2b5",
   "metadata": {},
   "outputs": [
    {
     "name": "stdout",
     "output_type": "stream",
     "text": [
      "{1, 2, 3, 4, 5, 6, 7}\n",
      "{1, 2, 3, 4, 5, 6, 7}\n"
     ]
    }
   ],
   "source": [
    "# 합집합\n",
    "a = set([1, 2, 3, 4, 5])\n",
    "b = set([3, 4, 5, 6, 7])\n",
    "print(a | b)\n",
    "print(a.union(b))"
   ]
  },
  {
   "cell_type": "code",
   "execution_count": 5,
   "id": "83234813",
   "metadata": {},
   "outputs": [
    {
     "name": "stdout",
     "output_type": "stream",
     "text": [
      "{1, 2}\n",
      "{1, 2}\n"
     ]
    }
   ],
   "source": [
    "# 차집합\n",
    "a = set([1, 2, 3, 4, 5])\n",
    "b = set([3, 4, 5, 6, 7])\n",
    "print(a - b)\n",
    "print(a.difference(b))"
   ]
  },
  {
   "cell_type": "code",
   "execution_count": 6,
   "id": "d7e87b3c",
   "metadata": {},
   "outputs": [
    {
     "name": "stdout",
     "output_type": "stream",
     "text": [
      "{1, 2, 3, 4}\n",
      "[1, 2, 3, 4]\n"
     ]
    }
   ],
   "source": [
    "# List 중복 제거\n",
    "items = [1, 2, 3, 4, 1, 2, 3]\n",
    "s = set(items)\n",
    "print(s)\n",
    "items2 = list(s)\n",
    "print(items2)"
   ]
  },
  {
   "cell_type": "code",
   "execution_count": 7,
   "id": "34184b56",
   "metadata": {},
   "outputs": [
    {
     "name": "stdout",
     "output_type": "stream",
     "text": [
      "{1, 2, 3, 4}\n",
      "(1, 2, 3, 4)\n"
     ]
    }
   ],
   "source": [
    "# Tuple 중복 제거\n",
    "items = (1, 2, 3, 4, 1, 2, 3)\n",
    "s = set(items)\n",
    "print(s)\n",
    "items2 = tuple(s)\n",
    "print(items2)"
   ]
  }
 ],
 "metadata": {
  "kernelspec": {
   "display_name": ".venv",
   "language": "python",
   "name": "python3"
  },
  "language_info": {
   "codemirror_mode": {
    "name": "ipython",
    "version": 3
   },
   "file_extension": ".py",
   "mimetype": "text/x-python",
   "name": "python",
   "nbconvert_exporter": "python",
   "pygments_lexer": "ipython3",
   "version": "3.13.7"
  }
 },
 "nbformat": 4,
 "nbformat_minor": 5
}
