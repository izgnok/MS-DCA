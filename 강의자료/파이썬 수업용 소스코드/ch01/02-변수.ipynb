{
 "cells": [
  {
   "cell_type": "code",
   "execution_count": 1,
   "id": "5dce962a",
   "metadata": {},
   "outputs": [
    {
     "name": "stdout",
     "output_type": "stream",
     "text": [
      "Python\n",
      "12345\n",
      "['a', 'b', 'c', 'd', 'e']\n",
      "{'a': 1, 'b': 2, 'c': 3}\n",
      "1234\n",
      "1234\n"
     ]
    }
   ],
   "source": [
    "var1 = 'Python'\n",
    "var2 = 12345\n",
    "var3 = ['a', 'b', 'c', 'd', 'e']\n",
    "data = { 'a' : 1, 'b' : 2, 'c' : 3 }\n",
    "a, b = ('python', 'variable') # 튜플 이용 a = 'python' b = 'variable'\n",
    "a, b = ['python', 'variable'] # 리스트 이용 a = 'python' b = 'variable'\n",
    "a = b = 1234 # a = 1234 b = 1234\n",
    "a, b = b, a\n",
    "\n",
    "print(var1)\n",
    "print(var2)\n",
    "print(var3)\n",
    "print(data)\n",
    "print(a)\n",
    "print(b)"
   ]
  },
  {
   "cell_type": "code",
   "execution_count": 2,
   "id": "76404b67",
   "metadata": {},
   "outputs": [
    {
     "name": "stdout",
     "output_type": "stream",
     "text": [
      "Python\n",
      "12345\n",
      "['a', 'b', 'c', 'd', 'e']\n",
      "{'a': 1, 'b': 2, 'c': 3}\n",
      "1234\n",
      "1234\n"
     ]
    }
   ],
   "source": [
    "var1: str = 'Python'\n",
    "var2: int = 12345\n",
    "var3: list[str] = ['a', 'b', 'c', 'd', 'e']\n",
    "data: dict[str, int] = { 'a': 1, 'b': 2, 'c': 3 }\n",
    "a: str; b: str; a, b = ('python', 'variable')\n",
    "a: str; b: str; a, b = ['python', 'variable']\n",
    "a: int; b: int; a = b = 1234\n",
    "a: int; b: int; a, b = b, a\n",
    "\n",
    "print(var1)\n",
    "print(var2)\n",
    "print(var3)\n",
    "print(data)\n",
    "print(a)\n",
    "print(b)"
   ]
  }
 ],
 "metadata": {
  "kernelspec": {
   "display_name": ".venv",
   "language": "python",
   "name": "python3"
  },
  "language_info": {
   "codemirror_mode": {
    "name": "ipython",
    "version": 3
   },
   "file_extension": ".py",
   "mimetype": "text/x-python",
   "name": "python",
   "nbconvert_exporter": "python",
   "pygments_lexer": "ipython3",
   "version": "3.13.7"
  }
 },
 "nbformat": 4,
 "nbformat_minor": 5
}
