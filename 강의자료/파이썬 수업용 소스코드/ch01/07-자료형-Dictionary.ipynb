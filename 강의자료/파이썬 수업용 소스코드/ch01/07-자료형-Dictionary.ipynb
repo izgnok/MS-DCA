{
 "cells": [
  {
   "cell_type": "code",
   "execution_count": null,
   "id": "afa54e15",
   "metadata": {},
   "outputs": [],
   "source": [
    "dict1 = { }\n",
    "dict2 = { 'name' : 'ggoreb' }\n",
    "dict3 = { 'name' : 'ggoreb', 'age' : 20 }\n",
    "dict4 = { 'name' : 'ggoreb', 'age' : 20, 'hobby' : ['당구', '배드민턴'] }\n",
    "dict5 = { 'name':'ggoreb', 'age':20, 'hobby':['당구', '배드민턴'], 123:456 }"
   ]
  },
  {
   "cell_type": "code",
   "execution_count": 1,
   "id": "ae3f597c",
   "metadata": {},
   "outputs": [
    {
     "name": "stdout",
     "output_type": "stream",
     "text": [
      "{'a': 1, 'b': 2, 'c': 3, 'd': '추가'}\n",
      "{'a': 1, 'b': 2, 'c': 3, 'd': '추가', 'e': ('가', '나')}\n",
      "{'a': 1, 'b': 2, 'c': 3, 'd': '추가', 'e': ('가', '나'), 3: 4}\n",
      "{'a': 1, 'b': 2, 'c': 3, 'd': '추가', 'e': ('가', '나'), 3: 4, (4,): 5}\n",
      "{'a': 1, 'b': 2, 'c': 3, 'd': '추가', 'e': ('가', '나'), 3: 4, (4,): 5, True: 6}\n"
     ]
    }
   ],
   "source": [
    "# Dictionary 요소 추가\n",
    "dic = { 'a' : 1, 'b' : 2, 'c' : 3 }\n",
    "dic['d'] = '추가'\n",
    "print(dic)\n",
    "dic['e'] = ('가', '나')\n",
    "print(dic)\n",
    "dic[3] = 4  # 숫자 key\n",
    "print(dic)\n",
    "dic[(4, )] = 5  # Tuple key\n",
    "print(dic)\n",
    "dic[True] = 6  # Bool key\n",
    "print(dic)"
   ]
  },
  {
   "cell_type": "code",
   "execution_count": 2,
   "id": "f986832a",
   "metadata": {},
   "outputs": [
    {
     "name": "stdout",
     "output_type": "stream",
     "text": [
      "{'a': '100', 'b': 2, 'c': 3}\n",
      "{'a': '100', 'b': 4, 'c': 3}\n",
      "{'a': '100', 'b': 4, 'c': 10, 'd': 1000}\n"
     ]
    }
   ],
   "source": [
    "# Dictionary 요소 수정\n",
    "dic = { 'a' : 1, 'b' : 2, 'c' : 3 }\n",
    "dic['a'] = '100'\n",
    "print(dic)\n",
    "dic['b'] = dic['b'] * 2\n",
    "print(dic)\n",
    "dic.update({'c': 10, 'd': 1000})  # 수정 + 추가\n",
    "print(dic)"
   ]
  },
  {
   "cell_type": "code",
   "execution_count": 3,
   "id": "70eb8d46",
   "metadata": {},
   "outputs": [
    {
     "name": "stdout",
     "output_type": "stream",
     "text": [
      "{'b': 2, 'c': 3}\n",
      "{}\n"
     ]
    }
   ],
   "source": [
    "# Dictionary 요소 삭제\n",
    "dic = { 'a' : 1, 'b' : 2, 'c' : 3 }\n",
    "del dic['a']\n",
    "print(dic)\n",
    "dic.clear()\n",
    "print(dic)"
   ]
  },
  {
   "cell_type": "code",
   "execution_count": 4,
   "id": "a43e6973",
   "metadata": {},
   "outputs": [
    {
     "name": "stdout",
     "output_type": "stream",
     "text": [
      "dict_keys(['a', 'b', 'c', 'd', 'e'])\n",
      "a 1\n",
      "b 2\n",
      "c 3\n",
      "d 4\n",
      "e 5\n"
     ]
    }
   ],
   "source": [
    "# keys() : key의 목록 확인\n",
    "dic = { 'a': 1, 'b': 2, 'c': 3, 'd': 4, 'e': 5 }\n",
    "print( dic.keys() )\n",
    "keys = list(dic.keys()) # key → List\n",
    "for key in keys :  # List로 만들어진 key 요소를 하나씩 추출\n",
    "  print(key, dic[key])  # 출력"
   ]
  },
  {
   "cell_type": "code",
   "execution_count": 5,
   "id": "bfc57ea9",
   "metadata": {},
   "outputs": [
    {
     "name": "stdout",
     "output_type": "stream",
     "text": [
      "dict_values([1, 2, 3, 4, 5])\n",
      "1\n",
      "2\n",
      "3\n",
      "4\n",
      "5\n"
     ]
    }
   ],
   "source": [
    "# values() : value의 목록 확인\n",
    "dic = { 'a': 1, 'b': 2, 'c': 3, 'd': 4, 'e': 5 }\n",
    "print( dic.values() ) \n",
    "items = list(dic.values()) # value → List\n",
    "for value in items:  # List로 만들어진 value 요소를 하나씩 추출\n",
    "  print(value)  # 출력"
   ]
  },
  {
   "cell_type": "code",
   "execution_count": 6,
   "id": "14764a06",
   "metadata": {},
   "outputs": [
    {
     "name": "stdout",
     "output_type": "stream",
     "text": [
      "dict_items([('a', 1), ('b', 2), ('c', 3), ('d', 4), ('e', 5)])\n",
      "a 1\n",
      "b 2\n",
      "c 3\n",
      "d 4\n",
      "e 5\n"
     ]
    }
   ],
   "source": [
    "# items() : key, value의 목록 확인\n",
    "dic = { 'a': 1, 'b': 2, 'c': 3, 'd': 4, 'e': 5 }\n",
    "print( dic.items() ) \n",
    "items = list(dic.items()) # value → List\n",
    "for key, value in items:  # (key, value) 요소를 하나씩 추출\n",
    "  print(key, value)  # 출력"
   ]
  },
  {
   "cell_type": "code",
   "execution_count": 8,
   "id": "928a6906",
   "metadata": {},
   "outputs": [
    {
     "name": "stdout",
     "output_type": "stream",
     "text": [
      "{}\n"
     ]
    }
   ],
   "source": [
    "# clear() : 모든 데이터 삭제\n",
    "dic = { 'a': 1, 'b': 2, 'c': 3, 'd': 4, 'e': 5 }\n",
    "dic.clear()\n",
    "print(dic)"
   ]
  },
  {
   "cell_type": "code",
   "execution_count": 9,
   "id": "58de4ace",
   "metadata": {},
   "outputs": [
    {
     "name": "stdout",
     "output_type": "stream",
     "text": [
      "None\n"
     ]
    },
    {
     "ename": "KeyError",
     "evalue": "'id'",
     "output_type": "error",
     "traceback": [
      "\u001b[31m---------------------------------------------------------------------------\u001b[39m",
      "\u001b[31mKeyError\u001b[39m                                  Traceback (most recent call last)",
      "\u001b[36mCell\u001b[39m\u001b[36m \u001b[39m\u001b[32mIn[9]\u001b[39m\u001b[32m, line 8\u001b[39m\n\u001b[32m      2\u001b[39m dic = { \n\u001b[32m      3\u001b[39m     \u001b[33m'\u001b[39m\u001b[33mname\u001b[39m\u001b[33m'\u001b[39m: \u001b[33m'\u001b[39m\u001b[33mggoreb\u001b[39m\u001b[33m'\u001b[39m, \n\u001b[32m      4\u001b[39m     \u001b[33m'\u001b[39m\u001b[33mage\u001b[39m\u001b[33m'\u001b[39m: \u001b[32m20\u001b[39m, \n\u001b[32m      5\u001b[39m     \u001b[33m'\u001b[39m\u001b[33mhobby\u001b[39m\u001b[33m'\u001b[39m: [\u001b[33m'\u001b[39m\u001b[33m당구\u001b[39m\u001b[33m'\u001b[39m, \u001b[33m'\u001b[39m\u001b[33m배드민턴\u001b[39m\u001b[33m'\u001b[39m] \n\u001b[32m      6\u001b[39m }\n\u001b[32m      7\u001b[39m \u001b[38;5;28mprint\u001b[39m( dic.get(\u001b[33m'\u001b[39m\u001b[33mid\u001b[39m\u001b[33m'\u001b[39m) )\n\u001b[32m----> \u001b[39m\u001b[32m8\u001b[39m \u001b[38;5;28mprint\u001b[39m( \u001b[43mdic\u001b[49m\u001b[43m[\u001b[49m\u001b[33;43m'\u001b[39;49m\u001b[33;43mid\u001b[39;49m\u001b[33;43m'\u001b[39;49m\u001b[43m]\u001b[49m )  \u001b[38;5;66;03m#  key error\u001b[39;00m\n",
      "\u001b[31mKeyError\u001b[39m: 'id'"
     ]
    }
   ],
   "source": [
    "# get() : key를 이용하여 value 조회\n",
    "dic = { \n",
    "  'name': 'ggoreb', \n",
    "  'age': 20, \n",
    "  'hobby': ['당구', '배드민턴'] \n",
    "}\n",
    "print( dic.get('id') )\n",
    "print( dic['id'] )  #  key error"
   ]
  },
  {
   "cell_type": "code",
   "execution_count": 10,
   "id": "2ba6804d",
   "metadata": {},
   "outputs": [
    {
     "name": "stdout",
     "output_type": "stream",
     "text": [
      "True\n",
      "False\n"
     ]
    }
   ],
   "source": [
    "# in : 지정된 key가 존재하는지 확인\n",
    "dic = { \n",
    "  'name': 'ggoreb', \n",
    "  'age': 20, \n",
    "  'hobby': ['당구', '배드민턴'] \n",
    "}\n",
    "print( 'name' in dic )\n",
    "print( 'address' in dic )"
   ]
  }
 ],
 "metadata": {
  "kernelspec": {
   "display_name": ".venv",
   "language": "python",
   "name": "python3"
  },
  "language_info": {
   "codemirror_mode": {
    "name": "ipython",
    "version": 3
   },
   "file_extension": ".py",
   "mimetype": "text/x-python",
   "name": "python",
   "nbconvert_exporter": "python",
   "pygments_lexer": "ipython3",
   "version": "3.13.7"
  }
 },
 "nbformat": 4,
 "nbformat_minor": 5
}
