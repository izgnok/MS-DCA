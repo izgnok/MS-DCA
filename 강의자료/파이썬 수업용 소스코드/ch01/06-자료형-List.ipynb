{
 "cells": [
  {
   "cell_type": "code",
   "execution_count": null,
   "id": "c8ae0df0",
   "metadata": {},
   "outputs": [],
   "source": [
    "list1 = [ ]\n",
    "list2 = [1, 2, 3, 4, 5]\n",
    "list3 = ['a', 'b', 'c', '가', '나', '다', 'ABC']\n",
    "list4 = [1, 2, 3, '가', '나', '다', False]\n",
    "list5 = ['a', 'b', 'c', [1, 2, 3], '가', '나', '다']"
   ]
  },
  {
   "cell_type": "code",
   "execution_count": null,
   "id": "f5bb986f",
   "metadata": {},
   "outputs": [],
   "source": [
    "print( list('123') )\n",
    "print( list((1, 2, 3)) )\n",
    "print( list({1, 2, 3}) )\n",
    "print( list({'a': 1, 'b': 2, 'c': 3}) ) # [a, b, c]"
   ]
  },
  {
   "cell_type": "code",
   "execution_count": 1,
   "id": "053c03fb",
   "metadata": {},
   "outputs": [
    {
     "name": "stdout",
     "output_type": "stream",
     "text": [
      "[1, 2, 3, 4, 5]\n",
      "[1, 2, 3, 'a', 'b']\n"
     ]
    }
   ],
   "source": [
    "# 더하기 연산\n",
    "list1 = [1, 2, 3] + [4, 5]\n",
    "print(list1)\n",
    "list2 = [1, 2, 3]\n",
    "list2 = list2 + ['a', 'b']\n",
    "print(list2)"
   ]
  },
  {
   "cell_type": "code",
   "execution_count": 2,
   "id": "ecabb4b2",
   "metadata": {},
   "outputs": [
    {
     "name": "stdout",
     "output_type": "stream",
     "text": [
      "[1, 2, 3, 1, 2, 3, 1, 2, 3]\n",
      "[1, 2, 3, 1, 2, 3, 1, 2, 3]\n"
     ]
    }
   ],
   "source": [
    "# 곱하기 연산\n",
    "list1 = [1, 2, 3] * 3\n",
    "print(list1)\n",
    "list2 = [1, 2, 3]\n",
    "list2 = list2 * 3\n",
    "print(list2)"
   ]
  },
  {
   "cell_type": "code",
   "execution_count": 3,
   "id": "07937032",
   "metadata": {},
   "outputs": [
    {
     "name": "stdout",
     "output_type": "stream",
     "text": [
      "H\n",
      "P\n",
      "n\n",
      "o\n"
     ]
    }
   ],
   "source": [
    "# indexing\n",
    "items = ['H', 'e', 'l', 'l', 'o', ' ', 'P', 'y', 't', 'h', 'o', 'n']\n",
    "print(items[0])\n",
    "print(items[6])\n",
    "print(items[-1])\n",
    "print(items[-8])"
   ]
  },
  {
   "cell_type": "code",
   "execution_count": 4,
   "id": "ac6e0845",
   "metadata": {},
   "outputs": [
    {
     "name": "stdout",
     "output_type": "stream",
     "text": [
      "['H', 'e', 'l', 'l', 'o', ' ', 'P', 'y', 't', 'h', 'o', 'n']\n",
      "['P', 'y', 't', 'h', 'o', 'n']\n",
      "['H', 'e', 'l', 'l', 'o']\n",
      "['H', 'e', 'l', 'l', 'o', ' ', 'P', 'y']\n",
      "['P', 'y']\n"
     ]
    }
   ],
   "source": [
    "# slicing\n",
    "items = ['H', 'e', 'l', 'l', 'o', ' ', 'P', 'y', 't', 'h', 'o', 'n']\n",
    "print(items[0:])\n",
    "print(items[6:])\n",
    "print(items[:5])\n",
    "print(items[:-4])\n",
    "print(items[-6:-4])"
   ]
  },
  {
   "cell_type": "code",
   "execution_count": 6,
   "id": "4a25dd59",
   "metadata": {},
   "outputs": [
    {
     "name": "stdout",
     "output_type": "stream",
     "text": [
      "['c', [1, 2, 3], '가']\n",
      "[1, 2, 3]\n",
      "2\n",
      "[1, 2, 3]\n",
      "[1, 2]\n"
     ]
    }
   ],
   "source": [
    "# 중첩 리스트\n",
    "items = ['a', 'b', 'c', [1, 2, 3], '가', '나', '다']\n",
    "print(items[2:5])\n",
    "print(items[3])\n",
    "print(items[3][1])\n",
    "print(items[3][:])\n",
    "print(items[3][:-1])"
   ]
  },
  {
   "cell_type": "code",
   "execution_count": 7,
   "id": "58bbea4b",
   "metadata": {},
   "outputs": [
    {
     "name": "stdout",
     "output_type": "stream",
     "text": [
      "[1, 2, ['Life', 'is', 'too', 'short']]\n",
      "2\n",
      "['Life', 'is', 'too', 'short']\n",
      "too\n"
     ]
    }
   ],
   "source": [
    "# 중첩 리스트\n",
    "items = ['a', [1, 2, ['Life', 'is', 'too', 'short']], '가']\n",
    "print(items[1])\n",
    "print(items[1][1])\n",
    "print(items[1][2])\n",
    "print(items[1][2][2])"
   ]
  },
  {
   "cell_type": "code",
   "execution_count": 8,
   "id": "95583f40",
   "metadata": {},
   "outputs": [
    {
     "name": "stdout",
     "output_type": "stream",
     "text": [
      "[1, 2, 3]\n",
      "[1, 2, 3, ['a', 'b']]\n",
      "[1, 2, 3, ['a', 'b', 'c']]\n",
      "[1, 2, 3, ['a', 'b', 'c'], '가']\n"
     ]
    }
   ],
   "source": [
    "# List 요소 추가\n",
    "items = [1]\n",
    "items = items + [2, 3]\n",
    "print(items)\n",
    "items = items + [['a', 'b']]\n",
    "print(items)\n",
    "items[3] = items[3] + ['c']\n",
    "print(items)\n",
    "items.append('가')\n",
    "print(items)"
   ]
  },
  {
   "cell_type": "code",
   "execution_count": 9,
   "id": "e77a6291",
   "metadata": {},
   "outputs": [
    {
     "name": "stdout",
     "output_type": "stream",
     "text": [
      "[10, 2, 3, 4, 5]\n",
      "[10, 4, 3, 4, 5]\n",
      "[10, 4, 30, 40, 5]\n",
      "['a', 'b', 'c']\n"
     ]
    }
   ],
   "source": [
    "# List 요소 수정\n",
    "items = [1, 2, 3, 4, 5]\n",
    "items[0] = 10\n",
    "print(items)\n",
    "items[1] = items[1] * 2\n",
    "print(items)\n",
    "items[2:4] = [30, 40]\n",
    "print(items)\n",
    "items[:] = ['a', 'b', 'c']\n",
    "print(items)"
   ]
  },
  {
   "cell_type": "code",
   "execution_count": 10,
   "id": "a52161dc",
   "metadata": {},
   "outputs": [
    {
     "name": "stdout",
     "output_type": "stream",
     "text": [
      "[1, 1, 3, 3, 4, 5]\n",
      "[1, 1, 3, 4, 5]\n",
      "5 [1, 1, 3, 4]\n"
     ]
    }
   ],
   "source": [
    "# List 요소 삭제\n",
    "items = [1, 1, '삭제', 3, 3, 4, 5]\n",
    "del items[2]\n",
    "print(items)\n",
    "items.remove(3) # 첫번째 등장 요소 제거\n",
    "print(items)\n",
    "last = items.pop() # 마지막 요소 (삭제 + 조회)\n",
    "print(last, items)"
   ]
  },
  {
   "cell_type": "code",
   "execution_count": 11,
   "id": "ae9d0046",
   "metadata": {},
   "outputs": [
    {
     "name": "stdout",
     "output_type": "stream",
     "text": [
      "3\n",
      "2\n"
     ]
    }
   ],
   "source": [
    "# count() : 특정 요소의 개수\n",
    "items = [1, 1, 2, 3, 3, 4, 4, 4]\n",
    "print( items.count(4) )\n",
    "print( items.count(3))"
   ]
  },
  {
   "cell_type": "code",
   "execution_count": 12,
   "id": "a871264b",
   "metadata": {},
   "outputs": [
    {
     "name": "stdout",
     "output_type": "stream",
     "text": [
      "1\n",
      "5\n"
     ]
    },
    {
     "ename": "ValueError",
     "evalue": "'X' is not in list",
     "output_type": "error",
     "traceback": [
      "\u001b[31m---------------------------------------------------------------------------\u001b[39m",
      "\u001b[31mValueError\u001b[39m                                Traceback (most recent call last)",
      "\u001b[36mCell\u001b[39m\u001b[36m \u001b[39m\u001b[32mIn[12]\u001b[39m\u001b[32m, line 5\u001b[39m\n\u001b[32m      3\u001b[39m \u001b[38;5;28mprint\u001b[39m( items.index(\u001b[33m'\u001b[39m\u001b[33my\u001b[39m\u001b[33m'\u001b[39m) )\n\u001b[32m      4\u001b[39m \u001b[38;5;28mprint\u001b[39m( items.index(\u001b[33m'\u001b[39m\u001b[33mn\u001b[39m\u001b[33m'\u001b[39m) )\n\u001b[32m----> \u001b[39m\u001b[32m5\u001b[39m \u001b[38;5;28mprint\u001b[39m( \u001b[43mitems\u001b[49m\u001b[43m.\u001b[49m\u001b[43mindex\u001b[49m\u001b[43m(\u001b[49m\u001b[33;43m'\u001b[39;49m\u001b[33;43mX\u001b[39;49m\u001b[33;43m'\u001b[39;49m\u001b[43m)\u001b[49m )\n",
      "\u001b[31mValueError\u001b[39m: 'X' is not in list"
     ]
    }
   ],
   "source": [
    "# index() : 특정 요소의 위치\n",
    "items = ['P', 'y', 't', 'h', 'o', 'n']\n",
    "print( items.index('y') )\n",
    "print( items.index('n') )\n",
    "print( items.index('X') )"
   ]
  },
  {
   "cell_type": "code",
   "execution_count": 13,
   "id": "d6d01ccf",
   "metadata": {},
   "outputs": [
    {
     "name": "stdout",
     "output_type": "stream",
     "text": [
      "[1, 2, 3, 4, 5]\n",
      "[5, 4, 3, 2, 1]\n"
     ]
    }
   ],
   "source": [
    "items = [3, 4, 2, 5, 1]\n",
    "# sort() : 정렬 (오름차순)\n",
    "items.sort()\n",
    "print(items)\n",
    "# sort(reverse=True) : 정렬 (내림차순)\n",
    "items.sort(reverse=True)\n",
    "print(items)"
   ]
  },
  {
   "cell_type": "code",
   "execution_count": 14,
   "id": "7920d2a5",
   "metadata": {},
   "outputs": [
    {
     "name": "stdout",
     "output_type": "stream",
     "text": [
      "[1, 5, 2, 4, 3]\n",
      "['e', 'k', 'a', 'h', 's']\n"
     ]
    }
   ],
   "source": [
    "# reverse() : 현재 상태의 반대로 정렬 (인덱스 기준)\n",
    "items = [3, 4, 2, 5, 1]\n",
    "items.reverse()\n",
    "print(items)\n",
    "items = ['s', 'h', 'a', 'k', 'e']\n",
    "items.reverse()\n",
    "print(items)"
   ]
  }
 ],
 "metadata": {
  "kernelspec": {
   "display_name": ".venv",
   "language": "python",
   "name": "python3"
  },
  "language_info": {
   "codemirror_mode": {
    "name": "ipython",
    "version": 3
   },
   "file_extension": ".py",
   "mimetype": "text/x-python",
   "name": "python",
   "nbconvert_exporter": "python",
   "pygments_lexer": "ipython3",
   "version": "3.13.7"
  }
 },
 "nbformat": 4,
 "nbformat_minor": 5
}
