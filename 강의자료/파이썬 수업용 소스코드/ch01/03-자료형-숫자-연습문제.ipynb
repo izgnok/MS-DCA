{
 "cells": [
  {
   "cell_type": "markdown",
   "id": "aab73dd2",
   "metadata": {},
   "source": [
    "### 23을 5로 나누었을 때의 몫과 나머지 구하기"
   ]
  },
  {
   "cell_type": "code",
   "execution_count": null,
   "id": "e3e4cbd8",
   "metadata": {},
   "outputs": [],
   "source": []
  },
  {
   "cell_type": "markdown",
   "id": "183b2e94",
   "metadata": {},
   "source": [
    "### 16진수 FF의 10진수 값 구하기"
   ]
  },
  {
   "cell_type": "code",
   "execution_count": null,
   "id": "fb9add59",
   "metadata": {},
   "outputs": [],
   "source": []
  },
  {
   "cell_type": "code",
   "execution_count": null,
   "id": "bbd2e02e",
   "metadata": {},
   "outputs": [],
   "source": []
  },
  {
   "cell_type": "markdown",
   "id": "08dbda30",
   "metadata": {},
   "source": [
    "### 8진수 33의 10진수 값 구하기"
   ]
  },
  {
   "cell_type": "code",
   "execution_count": null,
   "id": "1e3f8d32",
   "metadata": {},
   "outputs": [],
   "source": []
  },
  {
   "cell_type": "markdown",
   "id": "3e8c508d",
   "metadata": {},
   "source": [
    "### 제시된 숫자의 각 자리 수 합 구하기"
   ]
  },
  {
   "cell_type": "code",
   "execution_count": null,
   "id": "0aa1a1f9",
   "metadata": {},
   "outputs": [],
   "source": []
  },
  {
   "cell_type": "markdown",
   "id": "76148662",
   "metadata": {},
   "source": [
    "### 백의 자리 이하 숫자 버리기 (456 → 400   111 → 100)"
   ]
  },
  {
   "cell_type": "code",
   "execution_count": null,
   "id": "74ed9e8c",
   "metadata": {},
   "outputs": [],
   "source": []
  }
 ],
 "metadata": {
  "kernelspec": {
   "display_name": ".venv",
   "language": "python",
   "name": "python3"
  },
  "language_info": {
   "codemirror_mode": {
    "name": "ipython",
    "version": 3
   },
   "file_extension": ".py",
   "mimetype": "text/x-python",
   "name": "python",
   "nbconvert_exporter": "python",
   "pygments_lexer": "ipython3",
   "version": "3.13.7"
  }
 },
 "nbformat": 4,
 "nbformat_minor": 5
}
