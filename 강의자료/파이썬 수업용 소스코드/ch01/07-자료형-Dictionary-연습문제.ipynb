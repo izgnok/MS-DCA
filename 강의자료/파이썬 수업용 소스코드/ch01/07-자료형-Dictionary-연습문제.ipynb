{
 "cells": [
  {
   "cell_type": "markdown",
   "id": "a28e4bf6",
   "metadata": {},
   "source": [
    "1. '부산'에 해당하는 value 출력<br>\n",
    "2. '천안' key가 존재하는지 확인<br>\n",
    "3. key 리스트 생성<br>\n",
    "4. value 리스트 생성"
   ]
  },
  {
   "cell_type": "code",
   "execution_count": null,
   "id": "8496ff15",
   "metadata": {},
   "outputs": [],
   "source": [
    "number = {\n",
    "  '서울': '02', '대전': '042', '부산': '051',\n",
    "  '광주': '062', '제주': '064'\n",
    "}\n"
   ]
  },
  {
   "cell_type": "markdown",
   "id": "6446c979",
   "metadata": {},
   "source": [
    "### 인디언식 이름 짓기 (데이터 URL)\n",
    "1. 자신의 태어난 년도 맨 끝자리와 월, 일에 해당하는 수식어를 조합<br>\n",
    "2. 태어난 년도는 색이나 성격, 월은 주어, 일은 술어를 표현\n"
   ]
  },
  {
   "cell_type": "code",
   "execution_count": null,
   "id": "b1f4049b",
   "metadata": {},
   "outputs": [],
   "source": [
    "year = {\n",
    "  0: '시끄러운 또는 말 많은',\n",
    "  1: '푸른',\n",
    "  2: '어두운 -> 적색',\n",
    "  3: '조용한',\n",
    "  4: '웅크린',\n",
    "  5: '백색',\n",
    "  6: '지혜로운',\n",
    "  7: '용감한',\n",
    "  8: '날카로운',\n",
    "  9: '욕심많은'\n",
    "}\n",
    "\n",
    "month = {\n",
    "  1: '늑대', 2: '태양', 3: '양', 4: '매', \n",
    "  5: '황소', 6: '불꽃', 7: '나무', 8: '달빛', \n",
    "  9: '말', 10: '돼지', 11: '하늘', 12: '바람'\n",
    "}\n",
    "\n",
    "day = {\n",
    "  1: '와(과) 함께 춤을',\n",
    "  2: '의 기상',\n",
    "  3: '은(는) 그림자속에',\n",
    "  4: '',\n",
    "  5: '',\n",
    "  6: '',\n",
    "  7: '의 환생',\n",
    "  8: '의 죽음',\n",
    "  9: '의 아래에서',\n",
    "  10: '을(를) 보라',\n",
    "  11: '이(가) 노래하다',\n",
    "  12: '의 그늘 -> 그림자',\n",
    "  13: '의 일격',\n",
    "  14: '에게 쫓기는 남자',\n",
    "  15: '의 행진',\n",
    "  16: '의 왕',\n",
    "  17: '의 유령',\n",
    "  18: '을 죽인자',\n",
    "  19: '은(는) 맨날 잠 잔다',\n",
    "  20: '처럼',\n",
    "  21: '의 고향',\n",
    "  22: '의 전사',\n",
    "  23: '은(는) 나의 친구',\n",
    "  24: '의 노래',\n",
    "  25: '의 정령',\n",
    "  26: '의 파수꾼',\n",
    "  27: '의 악마',\n",
    "  28: '와(과) 같은 사나이',\n",
    "  29: '의 심판자 -> 을(를) 쓰러트린 자',\n",
    "  30: '의 혼',\n",
    "  31: '은(는) 말이 없다',\n",
    "}"
   ]
  },
  {
   "cell_type": "code",
   "execution_count": null,
   "id": "3bffdbaf",
   "metadata": {},
   "outputs": [],
   "source": [
    "birthday = '1971-08-07'\n"
   ]
  }
 ],
 "metadata": {
  "kernelspec": {
   "display_name": ".venv",
   "language": "python",
   "name": "python3"
  },
  "language_info": {
   "codemirror_mode": {
    "name": "ipython",
    "version": 3
   },
   "file_extension": ".py",
   "mimetype": "text/x-python",
   "name": "python",
   "nbconvert_exporter": "python",
   "pygments_lexer": "ipython3",
   "version": "3.13.7"
  }
 },
 "nbformat": 4,
 "nbformat_minor": 5
}
