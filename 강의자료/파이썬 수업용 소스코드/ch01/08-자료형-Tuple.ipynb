{
 "cells": [
  {
   "cell_type": "code",
   "execution_count": null,
   "id": "4b7426b3",
   "metadata": {},
   "outputs": [],
   "source": [
    "tuple1 = ( )\n",
    "tuple2 = ('a', )  # ← 요소가 한개인 경우 반드시 쉼표 (,) 를 붙임\n",
    "tuple3 = ('a', 'b', 'c', '가', '나', '다', 'ABC')\n",
    "tuple4 = 1, 2, 3  # ← 요소가 여러개인 경우 괄호 생략 가능\n",
    "tuple5 = ('a', 'b', 'c', (1, 2, 3), ('가', '나'))"
   ]
  }
 ],
 "metadata": {
  "kernelspec": {
   "display_name": ".venv",
   "language": "python",
   "name": "python3"
  },
  "language_info": {
   "codemirror_mode": {
    "name": "ipython",
    "version": 3
   },
   "file_extension": ".py",
   "mimetype": "text/x-python",
   "name": "python",
   "nbconvert_exporter": "python",
   "pygments_lexer": "ipython3",
   "version": "3.13.7"
  }
 },
 "nbformat": 4,
 "nbformat_minor": 5
}
