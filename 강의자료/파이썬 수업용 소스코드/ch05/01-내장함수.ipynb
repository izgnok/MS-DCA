{
 "cells": [
  {
   "cell_type": "code",
   "execution_count": null,
   "id": "a68ca86e",
   "metadata": {},
   "outputs": [
    {
     "name": "stdout",
     "output_type": "stream",
     "text": [
      "7\n",
      "(2, 1)\n",
      "90\n",
      "70\n",
      "240\n"
     ]
    }
   ],
   "source": [
    "# 수학 / 계산 관련\n",
    "print(abs(-7))         # 7\n",
    "print(divmod(7, 3))    # (2, 1)\n",
    "scores = [90, 80, 70]\n",
    "print(max(scores))     # 90\n",
    "print(min(scores))     # 70\n",
    "print(sum(scores))     # 240"
   ]
  },
  {
   "cell_type": "code",
   "execution_count": 5,
   "id": "f5ab92f2",
   "metadata": {},
   "outputs": [
    {
     "name": "stdout",
     "output_type": "stream",
     "text": [
      "10\n",
      "3.14\n",
      "123\n",
      "['a', 'b', 'c']\n",
      "(1, 2, 3)\n"
     ]
    }
   ],
   "source": [
    "# 형 변환 관련\n",
    "print(int(\"10\"))       # 10\n",
    "print(float(\"3.14\"))   # 3.14\n",
    "print(str(123))        # \"123\"\n",
    "print(list(\"abc\"))     # ['a','b','c']\n",
    "print(tuple([1,2,3]))  # (1,2,3)"
   ]
  },
  {
   "cell_type": "code",
   "execution_count": null,
   "id": "ba7cf40b",
   "metadata": {},
   "outputs": [
    {
     "name": "stdout",
     "output_type": "stream",
     "text": [
      "1\n",
      "2\n",
      "3\n",
      "4\n",
      "1 apple\n",
      "2 banana\n",
      "철수 90\n",
      "영희 85\n",
      "[1, 2, 3]\n"
     ]
    }
   ],
   "source": [
    "# 순서 / 반복 관련\n",
    "for i in range(1, 5):\n",
    "  print(i)   # 1, 2, 3, 4\n",
    "\n",
    "fruits = [\"apple\", \"banana\"]\n",
    "for idx, fruit in enumerate(fruits, start=1):\n",
    "  print(idx, fruit)\n",
    "\n",
    "names = [\"철수\", \"영희\"]\n",
    "scores = [90, 85]\n",
    "for name, score in zip(names, scores):\n",
    "  print(name, score)\n",
    "\n",
    "print(sorted([3,1,2]))  # [1,2,3]"
   ]
  },
  {
   "cell_type": "code",
   "execution_count": null,
   "id": "89008b55",
   "metadata": {},
   "outputs": [
    {
     "name": "stdout",
     "output_type": "stream",
     "text": [
      "True\n",
      "False\n",
      "True\n",
      "<class 'int'>\n"
     ]
    }
   ],
   "source": [
    "# 논리 / 검사 관련\n",
    "print(all([True, 1, \"hi\"]))   # True\n",
    "print(any([0, \"\", None]))     # False\n",
    "\n",
    "x = 10\n",
    "print(isinstance(x, int))     # True\n",
    "print(type(x))                # <class 'int'>"
   ]
  },
  {
   "cell_type": "code",
   "execution_count": 8,
   "id": "b3e3600e",
   "metadata": {},
   "outputs": [
    {
     "name": "stdout",
     "output_type": "stream",
     "text": [
      "A\n",
      "65\n",
      "0xff\n",
      "0o10\n"
     ]
    }
   ],
   "source": [
    "# 문자 / 코드 관련\n",
    "print(chr(65))    # 'A'\n",
    "print(ord('A'))   # 65\n",
    "print(hex(255))   # '0xff'\n",
    "print(oct(8))     # '0o10'"
   ]
  },
  {
   "cell_type": "code",
   "execution_count": 9,
   "id": "aa97ae8c",
   "metadata": {},
   "outputs": [
    {
     "name": "stdout",
     "output_type": "stream",
     "text": [
      "안녕하세요, 홍길동\n",
      "['__add__', '__class__', '__class_getitem__', '__contains__', '__delattr__', '__delitem__', '__dir__', '__doc__', '__eq__', '__format__', '__ge__', '__getattribute__', '__getitem__', '__getstate__', '__gt__', '__hash__', '__iadd__', '__imul__', '__init__', '__init_subclass__', '__iter__', '__le__', '__len__', '__lt__', '__mul__', '__ne__', '__new__', '__reduce__', '__reduce_ex__', '__repr__', '__reversed__', '__rmul__', '__setattr__', '__setitem__', '__sizeof__', '__str__', '__subclasshook__', 'append', 'clear', 'copy', 'count', 'extend', 'index', 'insert', 'pop', 'remove', 'reverse', 'sort']\n"
     ]
    }
   ],
   "source": [
    "# 입출력 / 시스템 관련\n",
    "name = input(\"이름 입력: \")\n",
    "print(\"안녕하세요,\", name)\n",
    "\n",
    "f = open(\"test.txt\", \"w\")\n",
    "f.write(\"Hello Python\")\n",
    "f.close()\n",
    "\n",
    "print(dir([]))   # 리스트가 가진 메소드 목록"
   ]
  },
  {
   "cell_type": "code",
   "execution_count": 10,
   "id": "97bf5051",
   "metadata": {},
   "outputs": [
    {
     "name": "stdout",
     "output_type": "stream",
     "text": [
      "8\n",
      "[1, 4, 9, 16, 25]\n",
      "[2, 4]\n"
     ]
    }
   ],
   "source": [
    "# 기타 / 응용\n",
    "print(eval(\"3+5\"))   # 8\n",
    "\n",
    "nums = [1,2,3,4,5]\n",
    "print(list(map(lambda x: x**2, nums)))  \n",
    "# [1, 4, 9, 16, 25]\n",
    "\n",
    "print(list(filter(lambda x: x%2==0, nums)))  \n",
    "# [2, 4]"
   ]
  }
 ],
 "metadata": {
  "kernelspec": {
   "display_name": ".venv",
   "language": "python",
   "name": "python3"
  },
  "language_info": {
   "codemirror_mode": {
    "name": "ipython",
    "version": 3
   },
   "file_extension": ".py",
   "mimetype": "text/x-python",
   "name": "python",
   "nbconvert_exporter": "python",
   "pygments_lexer": "ipython3",
   "version": "3.13.7"
  }
 },
 "nbformat": 4,
 "nbformat_minor": 5
}
