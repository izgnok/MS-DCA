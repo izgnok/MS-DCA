{
 "cells": [
  {
   "cell_type": "markdown",
   "id": "c4ca22dc",
   "metadata": {},
   "source": [
    "### 그래프와 같이 이동한 거리 dx, dy 를 구할 수 있는 distance() 함수 작성"
   ]
  },
  {
   "cell_type": "code",
   "execution_count": null,
   "id": "98d9ad2f",
   "metadata": {},
   "outputs": [],
   "source": [
    "def distance(start, end):\n",
    "  # 코드 작성\n",
    "\n",
    "start = (1, 1)\n",
    "end = (5, 3)\n",
    "dx, dy = distance(start, end)\n",
    "print('dx:', dx, 'dy:', dy)"
   ]
  },
  {
   "cell_type": "markdown",
   "id": "bfa68402",
   "metadata": {},
   "source": [
    "### a를 b로 나눈 몫과 나머지 구하기"
   ]
  },
  {
   "cell_type": "code",
   "execution_count": null,
   "id": "b2691bdd",
   "metadata": {},
   "outputs": [],
   "source": [
    "a = 123\n",
    "b = 16\n",
    "\n",
    "# 코드 작성\n",
    "\n",
    "print('몫', quotient)\n",
    "print('나머지', remain)"
   ]
  },
  {
   "cell_type": "markdown",
   "id": "3edd69cf",
   "metadata": {},
   "source": [
    "### 문자열 \"3.14\"를 정수와 실수로 변환하기"
   ]
  },
  {
   "cell_type": "code",
   "execution_count": null,
   "id": "1f2b12c3",
   "metadata": {},
   "outputs": [],
   "source": [
    "s = \"3.14\"\n",
    "\n",
    "# 코드 작성"
   ]
  },
  {
   "cell_type": "markdown",
   "id": "d434c1a9",
   "metadata": {},
   "source": [
    "### 문자열 \"Python\"을 리스트로 변환하기"
   ]
  },
  {
   "cell_type": "code",
   "execution_count": null,
   "id": "02ed8a50",
   "metadata": {},
   "outputs": [],
   "source": [
    "s = \"Python\"\n",
    "\n",
    "# 코드 작성"
   ]
  },
  {
   "cell_type": "markdown",
   "id": "64d35803",
   "metadata": {},
   "source": [
    "### 리스트 ['사과', '바나나', '포도']를 번호와 함께 출력하기"
   ]
  },
  {
   "cell_type": "code",
   "execution_count": null,
   "id": "da1448a9",
   "metadata": {},
   "outputs": [],
   "source": [
    "fruits = ['사과', '바나나', '포도']\n",
    "\n",
    "# 코드 작성"
   ]
  },
  {
   "cell_type": "markdown",
   "id": "b7ba88f7",
   "metadata": {},
   "source": [
    "### 주어진 데이터를 결과와 같은 형식의 데이터로 저장하기"
   ]
  },
  {
   "cell_type": "code",
   "execution_count": null,
   "id": "f238e8f4",
   "metadata": {},
   "outputs": [],
   "source": [
    "fish1_length = [\n",
    "  25.4, 26.3, 26.5, 29.0, 29.0, 29.7, 29.7, 30.0, 30.0, 30.7,\n",
    "  31.0, 31.0, 31.5, 32.0, 32.0, 32.0, 33.0, 33.0, 33.5, 33.5,\n",
    "  34.0, 34.0, 34.5, 35.0, 35.0, 35.0, 35.0, 36.0, 36.0, 37.0,\n",
    "  38.5, 38.5, 39.5, 41.0, 41.0\n",
    "]\n",
    "fish1_weight = [\n",
    "  242.0, 290.0, 340.0, 363.0, 430.0, 450.0, 500.0, 390.0, 450.0,\n",
    "  500.0, 475.0, 500.0, 500.0, 340.0, 600.0, 600.0, 700.0, 700.0,\n",
    "  610.0, 650.0, 575.0, 685.0, 620.0, 680.0, 700.0, 725.0, 720.0,\n",
    "  714.0, 850.0, 1000.0, 920.0, 955.0, 925.0, 975.0, 950.0\n",
    "]\n",
    "fish2_length = [\n",
    "  9.8, 10.5, 10.6, 11.0, 11.2, 11.3, 11.8, 11.8, 12.0, 12.2,\n",
    "  12.4, 13.0, 14.3, 15.0\n",
    "]\n",
    "fish2_weight = [\n",
    "  6.7, 7.5, 7.0, 9.7, 9.8, 8.7, 10.0, 9.9, 9.8, 12.2,\n",
    "  13.4, 12.2, 19.7, 19.9\n",
    "]\n",
    "\n",
    "# 코드 작성"
   ]
  },
  {
   "cell_type": "markdown",
   "id": "97199269",
   "metadata": {},
   "source": [
    "### 색상표를 통해 확인된 숫자를 16진수로 표현"
   ]
  },
  {
   "cell_type": "code",
   "execution_count": null,
   "id": "ec3dae13",
   "metadata": {},
   "outputs": [],
   "source": [
    "red = 190\n",
    "green = 66\n",
    "blue = 205\n",
    "\n",
    "# 코드 작성\n",
    "\n",
    "print(r, g, b)"
   ]
  },
  {
   "cell_type": "markdown",
   "id": "385e2b4f",
   "metadata": {},
   "source": [
    "### 16진수 문자 코드값을 문자로 변환하기"
   ]
  },
  {
   "cell_type": "code",
   "execution_count": null,
   "id": "3cc5ce4c",
   "metadata": {},
   "outputs": [],
   "source": [
    "hexa_string = '48 45 4C 4C 4F'\n",
    "# 코드 작성"
   ]
  },
  {
   "cell_type": "markdown",
   "id": "c1c25188",
   "metadata": {},
   "source": [
    "### 리스트 [\"1\", \"20\", \"3\", \"40\"]를 정수로 변환한 뒤, 10 이상인 숫자만 출력"
   ]
  },
  {
   "cell_type": "code",
   "execution_count": null,
   "id": "c59f4c4f",
   "metadata": {},
   "outputs": [],
   "source": [
    "nums = [\"1\", \"20\", \"3\", \"40\"]\n",
    "\n",
    "# 코드 작성"
   ]
  },
  {
   "cell_type": "markdown",
   "id": "cd08e188",
   "metadata": {},
   "source": [
    "### 리스트 [5, 10, 15, 20, 25]에서 3의 배수만 제곱해서 출력"
   ]
  },
  {
   "cell_type": "code",
   "execution_count": null,
   "id": "181cf1af",
   "metadata": {},
   "outputs": [],
   "source": [
    "nums = [5, 10, 15, 20, 25]\n",
    "\n",
    "# 코드 작성"
   ]
  }
 ],
 "metadata": {
  "kernelspec": {
   "display_name": ".venv",
   "language": "python",
   "name": "python3"
  },
  "language_info": {
   "codemirror_mode": {
    "name": "ipython",
    "version": 3
   },
   "file_extension": ".py",
   "mimetype": "text/x-python",
   "name": "python",
   "nbconvert_exporter": "python",
   "pygments_lexer": "ipython3",
   "version": "3.13.7"
  }
 },
 "nbformat": 4,
 "nbformat_minor": 5
}
