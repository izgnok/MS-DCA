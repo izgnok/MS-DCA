{
 "cells": [
  {
   "cell_type": "markdown",
   "id": "c4fc4cd8",
   "metadata": {},
   "source": [
    "### 네이버 웹툰 목록 데이터 수집 (1, 2 페이지 목록)"
   ]
  },
  {
   "cell_type": "code",
   "execution_count": null,
   "id": "c2f3e11d",
   "metadata": {},
   "outputs": [],
   "source": [
    "import requests\n",
    "url = 'https://comic.naver.com/api/article/list'\n",
    "param = {\n",
    "  # 코드 작성\n",
    "}\n",
    "res = requests.get(url, params=param)\n"
   ]
  },
  {
   "cell_type": "code",
   "execution_count": null,
   "id": "7505afbf",
   "metadata": {},
   "outputs": [],
   "source": [
    "# 코드 작성\n"
   ]
  },
  {
   "cell_type": "markdown",
   "id": "00f90451",
   "metadata": {},
   "source": [
    "### 다음 환율 데이터 수집"
   ]
  },
  {
   "cell_type": "code",
   "execution_count": null,
   "id": "7c315c38",
   "metadata": {},
   "outputs": [],
   "source": [
    "import requests\n",
    "url = 'https://finance.daum.net/api/exchanges/summaries'\n",
    "header = {\n",
    "  # 코드 작성\n",
    "}\n",
    "res = requests.get(url, headers=header)"
   ]
  },
  {
   "cell_type": "code",
   "execution_count": null,
   "id": "d209e36c",
   "metadata": {},
   "outputs": [],
   "source": [
    "# 코드 작성\n"
   ]
  }
 ],
 "metadata": {
  "kernelspec": {
   "display_name": ".venv",
   "language": "python",
   "name": "python3"
  },
  "language_info": {
   "codemirror_mode": {
    "name": "ipython",
    "version": 3
   },
   "file_extension": ".py",
   "mimetype": "text/x-python",
   "name": "python",
   "nbconvert_exporter": "python",
   "pygments_lexer": "ipython3",
   "version": "3.13.7"
  }
 },
 "nbformat": 4,
 "nbformat_minor": 5
}
