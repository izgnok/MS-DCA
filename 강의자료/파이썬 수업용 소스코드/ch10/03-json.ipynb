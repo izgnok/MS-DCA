{
 "cells": [
  {
   "cell_type": "code",
   "execution_count": 19,
   "id": "1756fd63",
   "metadata": {},
   "outputs": [
    {
     "name": "stdout",
     "output_type": "stream",
     "text": [
      "<class 'dict'>\n",
      "10\n",
      "GGoReb\n"
     ]
    }
   ],
   "source": [
    "# requests.json()\n",
    "import requests\n",
    "res = requests.get('http://ggoreb.com/python/json/data1.jsp')\n",
    "parse = res.json() # JSON → Dictionary\n",
    "print(type(parse))\n",
    "print(parse['age'])\n",
    "print(parse.get('name'))"
   ]
  },
  {
   "cell_type": "code",
   "execution_count": 20,
   "id": "63ba9f60",
   "metadata": {},
   "outputs": [
    {
     "name": "stdout",
     "output_type": "stream",
     "text": [
      "<class 'list'>\n",
      "10\n",
      "A\n",
      "11\n",
      "B\n",
      "12\n",
      "C\n"
     ]
    }
   ],
   "source": [
    "# requests.json()\n",
    "import requests\n",
    "res = requests.get('http://ggoreb.com/python/json/data2.jsp')\n",
    "parse = res.json() # JSON → List\n",
    "print(type(parse))\n",
    "for data in parse:\n",
    "  print(data.get('age'))\n",
    "  print(data.get('name'))"
   ]
  }
 ],
 "metadata": {
  "kernelspec": {
   "display_name": ".venv",
   "language": "python",
   "name": "python3"
  },
  "language_info": {
   "codemirror_mode": {
    "name": "ipython",
    "version": 3
   },
   "file_extension": ".py",
   "mimetype": "text/x-python",
   "name": "python",
   "nbconvert_exporter": "python",
   "pygments_lexer": "ipython3",
   "version": "3.13.7"
  }
 },
 "nbformat": 4,
 "nbformat_minor": 5
}
