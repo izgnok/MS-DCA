{
 "cells": [
  {
   "cell_type": "markdown",
   "id": "a9b33e80",
   "metadata": {},
   "source": [
    "### 당첨번호와 보너스 번호 출력하기\n",
    "<pre>\n",
    "2\n",
    "8\n",
    "19\n",
    "22\n",
    "32\n",
    "42\n",
    "39\n",
    "</pre>"
   ]
  },
  {
   "cell_type": "code",
   "execution_count": null,
   "id": "2b1b1000",
   "metadata": {},
   "outputs": [],
   "source": [
    "import requests\n",
    "address = 'http://ggoreb.com/python/html/number.html'\n",
    "res = requests.get(address)\n",
    "text = res.text"
   ]
  },
  {
   "cell_type": "code",
   "execution_count": null,
   "id": "821c16b2",
   "metadata": {},
   "outputs": [],
   "source": [
    "# 방법 1) find() + slicing\n"
   ]
  },
  {
   "cell_type": "code",
   "execution_count": null,
   "id": "c240cc2b",
   "metadata": {},
   "outputs": [],
   "source": [
    "# 방법 2) 정규 표현식\n"
   ]
  },
  {
   "cell_type": "markdown",
   "id": "18a77717",
   "metadata": {},
   "source": [
    "### 이미지의 경로 출력하기"
   ]
  },
  {
   "cell_type": "code",
   "execution_count": null,
   "id": "2265ca52",
   "metadata": {},
   "outputs": [],
   "source": [
    "import requests\n",
    "address = 'http://ggoreb.com/python/html/attribute.html'\n",
    "res = requests.get(address)\n",
    "text = res.text"
   ]
  },
  {
   "cell_type": "code",
   "execution_count": null,
   "id": "76f2fd87",
   "metadata": {},
   "outputs": [],
   "source": []
  }
 ],
 "metadata": {
  "kernelspec": {
   "display_name": ".venv",
   "language": "python",
   "name": "python3"
  },
  "language_info": {
   "codemirror_mode": {
    "name": "ipython",
    "version": 3
   },
   "file_extension": ".py",
   "mimetype": "text/x-python",
   "name": "python",
   "nbconvert_exporter": "python",
   "pygments_lexer": "ipython3",
   "version": "3.13.7"
  }
 },
 "nbformat": 4,
 "nbformat_minor": 5
}
