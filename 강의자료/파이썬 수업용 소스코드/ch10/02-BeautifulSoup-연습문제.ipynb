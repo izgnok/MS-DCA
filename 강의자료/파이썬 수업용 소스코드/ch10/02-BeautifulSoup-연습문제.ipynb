{
 "cells": [
  {
   "cell_type": "markdown",
   "id": "c4fc4cd8",
   "metadata": {},
   "source": [
    "### tiobe에서 프로그래밍 언어 인기순위 순으로 출력하기"
   ]
  },
  {
   "cell_type": "code",
   "execution_count": null,
   "id": "c2f3e11d",
   "metadata": {},
   "outputs": [],
   "source": [
    "import requests\n",
    "res = requests.get('https://tiobe.com/tiobe-index/')\n",
    "\n",
    "# 코드 작성"
   ]
  },
  {
   "cell_type": "markdown",
   "id": "f3774c75",
   "metadata": {},
   "source": [
    "### 당근 중고거래 매물의 이미지 저장하기"
   ]
  },
  {
   "cell_type": "code",
   "execution_count": null,
   "id": "1d01f99c",
   "metadata": {},
   "outputs": [],
   "source": [
    "# 이미지 저장 코드\n",
    "import os\n",
    "os.makedirs(\"images\", exist_ok=True)\n",
    "\n",
    "res = requests.get(f'http://ggoreb.com/images/kdh.jpg')\n",
    "with open(f\"images/kdh.jpg\", \"wb\") as file:\n",
    "  file.write(res.content)"
   ]
  },
  {
   "cell_type": "code",
   "execution_count": null,
   "id": "dbade9ff",
   "metadata": {},
   "outputs": [],
   "source": [
    "import requests\n",
    "url = 'https://www.daangn.com/search/노트북/'\n",
    "res = requests.get(url)\n",
    "\n",
    "# 코드 작성"
   ]
  },
  {
   "cell_type": "markdown",
   "id": "01108fc8",
   "metadata": {},
   "source": [
    "### 카카오 \"지도/로컬 API\" 중 \"로컬 API\" 를 활용하여 결과와 같이 출력하기\n",
    "- 요청 URL : https://dapi.kakao.com/v2/local/search/address.xml\n",
    "- 필수 요청 파라미터 : query → (String) 주소\n",
    "- 응답 예시)"
   ]
  },
  {
   "cell_type": "code",
   "execution_count": null,
   "id": "d7d8f82a",
   "metadata": {},
   "outputs": [],
   "source": [
    "import requests\n",
    "url = 'https://dapi.kakao.com/v2/local/search/address.xml'\n",
    "param = { 'query': '괴정동' }\n",
    "header = { 'Authorization': 'KakaoAK f33c0bdc28cf3a49a87aeb9f5e218e65' }\n",
    "\n",
    "# 코드 작성"
   ]
  }
 ],
 "metadata": {
  "kernelspec": {
   "display_name": ".venv",
   "language": "python",
   "name": "python3"
  },
  "language_info": {
   "codemirror_mode": {
    "name": "ipython",
    "version": 3
   },
   "file_extension": ".py",
   "mimetype": "text/x-python",
   "name": "python",
   "nbconvert_exporter": "python",
   "pygments_lexer": "ipython3",
   "version": "3.13.7"
  }
 },
 "nbformat": 4,
 "nbformat_minor": 5
}
