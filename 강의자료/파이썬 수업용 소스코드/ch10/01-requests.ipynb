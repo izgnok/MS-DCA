{
 "cells": [
  {
   "cell_type": "code",
   "execution_count": null,
   "id": "1cdfb999",
   "metadata": {},
   "outputs": [
    {
     "name": "stdout",
     "output_type": "stream",
     "text": [
      "200\n",
      "<html lang='ko'>\n",
      "<head>\n",
      "    <meta charset='utf-8' >\n",
      "</head>\n",
      "<body>\n",
      "    <h3>\n",
      "        <a href='#'>íëë¹</a>\n",
      "    </h3>\n",
      "</body>\n",
      "</html>\n"
     ]
    }
   ],
   "source": [
    "# 기본 사용\n",
    "import requests\n",
    "res = requests.get('http://ggoreb.com/http')\n",
    "print(res.status_code)\n",
    "print(res.text)"
   ]
  },
  {
   "cell_type": "code",
   "execution_count": null,
   "id": "04b23f91",
   "metadata": {},
   "outputs": [
    {
     "name": "stdout",
     "output_type": "stream",
     "text": [
      "\n",
      "한글 테스트 euc-kr\n",
      "\n"
     ]
    }
   ],
   "source": [
    "# 인코딩 방식 직접 지정\n",
    "import requests\n",
    "res = requests.get('http://ggoreb.com/http/euc-kr.jsp')\n",
    "res.encoding = 'euc-kr'\n",
    "print(res.text)  # 한글 테스트 euc-kr"
   ]
  },
  {
   "cell_type": "code",
   "execution_count": null,
   "id": "e7ae5bfa",
   "metadata": {},
   "outputs": [
    {
     "name": "stdout",
     "output_type": "stream",
     "text": [
      "text/html;charset=euc-kr\n",
      "\n",
      "한글 테스트 euc-kr\n",
      "\n"
     ]
    }
   ],
   "source": [
    "# 응답 헤더의 인코딩 정보 사용\n",
    "import requests\n",
    "res = requests.get('http://ggoreb.com/http/euc-kr.jsp')\n",
    "print(res.headers['Content-Type'])  # text/html;charset=euc-kr\n",
    "print(res.text)  # 한글 테스트 euc-kr"
   ]
  },
  {
   "cell_type": "code",
   "execution_count": null,
   "id": "d3a49a2c",
   "metadata": {},
   "outputs": [
    {
     "name": "stdout",
     "output_type": "stream",
     "text": [
      "utf_16_le\n",
      "윊뇑⃛ퟅ몽껆攠捵欭ੲ\n"
     ]
    }
   ],
   "source": [
    "# 응답 헤더를 무시하고 추정된 값 사용\n",
    "import requests\n",
    "res = requests.get('http://ggoreb.com/http/euc-kr.jsp')\n",
    "print(res.apparent_encoding)  # utf_16_le\n",
    "res.encoding = None\n",
    "print(res.text)  # 윊뇑⃛ퟅ몽껆攠捵欭ੲ"
   ]
  },
  {
   "cell_type": "code",
   "execution_count": 21,
   "id": "32dfc993",
   "metadata": {},
   "outputs": [
    {
     "name": "stdout",
     "output_type": "stream",
     "text": [
      "200\n",
      "\n",
      "\n",
      "\n",
      "method : GET<br>\n",
      "query string<br>\n",
      "<br><br>\n",
      "header<br>\n",
      "key : host, value : ggoreb.com<br>\n",
      "key : x-real-ip, value : 125.135.132.226<br>\n",
      "key : x-forwarded-for, value : 125.135.132.226<br>\n",
      "key : connection, value : close<br>\n",
      "key : user-agent, value : python-requests/2.32.5<br>\n",
      "key : accept-encoding, value : gzip, deflate<br>\n",
      "key : accept, value : */*<br>\n",
      "\n"
     ]
    }
   ],
   "source": [
    "import requests\n",
    "res = requests.get('http://ggoreb.com/python/request.jsp')\n",
    "print(res.status_code)\n",
    "print(res.text)"
   ]
  },
  {
   "cell_type": "code",
   "execution_count": 26,
   "id": "3cf01387",
   "metadata": {},
   "outputs": [
    {
     "name": "stdout",
     "output_type": "stream",
     "text": [
      "\n",
      "\n",
      "\n",
      "method : GET<br>\n",
      "query string<br>\n",
      "key : page, value : 1<br>\n",
      "key : search, value : search text<br>\n",
      "<br><br>\n",
      "header<br>\n",
      "key : host, value : ggoreb.com<br>\n",
      "key : x-real-ip, value : 125.135.132.226<br>\n",
      "key : x-forwarded-for, value : 125.135.132.226<br>\n",
      "key : connection, value : close<br>\n",
      "key : user-agent, value : python-requests/2.32.5<br>\n",
      "key : accept-encoding, value : gzip, deflate<br>\n",
      "key : accept, value : */*<br>\n",
      "\n"
     ]
    }
   ],
   "source": [
    "# Parameter 사용 (GET - params)\n",
    "import requests\n",
    "param = { 'page': 1, 'search': 'search text' }\n",
    "res = requests.get(\n",
    "  'http://ggoreb.com/python/request.jsp', params=param)\n",
    "print(res.text)"
   ]
  },
  {
   "cell_type": "code",
   "execution_count": 27,
   "id": "6e5c36a3",
   "metadata": {},
   "outputs": [
    {
     "name": "stdout",
     "output_type": "stream",
     "text": [
      "\n",
      "\n",
      "\n",
      "method : POST<br>\n",
      "query string<br>\n",
      "key : page, value : 1<br>\n",
      "key : search, value : search text<br>\n",
      "<br><br>\n",
      "header<br>\n",
      "key : host, value : ggoreb.com<br>\n",
      "key : x-real-ip, value : 125.135.132.226<br>\n",
      "key : x-forwarded-for, value : 125.135.132.226<br>\n",
      "key : connection, value : close<br>\n",
      "key : content-length, value : 25<br>\n",
      "key : user-agent, value : python-requests/2.32.5<br>\n",
      "key : accept-encoding, value : gzip, deflate<br>\n",
      "key : accept, value : */*<br>\n",
      "key : content-type, value : application/x-www-form-urlencoded<br>\n",
      "\n"
     ]
    }
   ],
   "source": [
    "# Parameter 사용 (POST - data)\n",
    "import requests\n",
    "param = { 'page': 1, 'search': 'search text' }\n",
    "res = requests.post(\n",
    "  'http://ggoreb.com/python/request.jsp', data=param)\n",
    "print(res.text)"
   ]
  },
  {
   "cell_type": "code",
   "execution_count": 25,
   "id": "dbea30cb",
   "metadata": {},
   "outputs": [
    {
     "name": "stdout",
     "output_type": "stream",
     "text": [
      "\n",
      "\n",
      "\n",
      "method : GET<br>\n",
      "query string<br>\n",
      "<br><br>\n",
      "header<br>\n",
      "key : host, value : ggoreb.com<br>\n",
      "key : x-real-ip, value : 125.135.132.226<br>\n",
      "key : x-forwarded-for, value : 125.135.132.226<br>\n",
      "key : connection, value : close<br>\n",
      "key : user-agent, value : android<br>\n",
      "key : accept-encoding, value : gzip, deflate<br>\n",
      "key : accept, value : */*<br>\n",
      "key : accept-language, value : en<br>\n",
      "\n"
     ]
    }
   ],
   "source": [
    "# Header 사용\n",
    "import requests\n",
    "header = { 'user-agent': 'android', 'accept-language': 'en' }\n",
    "res = requests.get(\n",
    "  'http://ggoreb.com/python/request.jsp', headers=header)\n",
    "print(res.text)"
   ]
  },
  {
   "cell_type": "code",
   "execution_count": 28,
   "id": "4ee0a2a0",
   "metadata": {},
   "outputs": [
    {
     "name": "stdout",
     "output_type": "stream",
     "text": [
      "Jill\n",
      "Smith\n",
      "50\n",
      "Eve\n",
      "Jackson\n",
      "94\n",
      "John\n",
      "Doe\n",
      "80\n"
     ]
    }
   ],
   "source": [
    "# 데이터 추출하기\n",
    "import requests\n",
    "result = requests.get(\n",
    "  'http://ggoreb.com/python/html/data1.html').text\n",
    "s_idx = 0\n",
    "e_idx = 0\n",
    "while True:\n",
    "  s_idx = result.find('<td>', e_idx)\n",
    "  if s_idx == -1: break\n",
    "  e_idx = result.find('</td>', s_idx)\n",
    "  print(result[s_idx + 4 : e_idx])"
   ]
  },
  {
   "cell_type": "markdown",
   "id": "fe97ee2a",
   "metadata": {},
   "source": []
  }
 ],
 "metadata": {
  "kernelspec": {
   "display_name": ".venv",
   "language": "python",
   "name": "python3"
  },
  "language_info": {
   "codemirror_mode": {
    "name": "ipython",
    "version": 3
   },
   "file_extension": ".py",
   "mimetype": "text/x-python",
   "name": "python",
   "nbconvert_exporter": "python",
   "pygments_lexer": "ipython3",
   "version": "3.13.7"
  }
 },
 "nbformat": 4,
 "nbformat_minor": 5
}
