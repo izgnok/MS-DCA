{
 "cells": [
  {
   "cell_type": "markdown",
   "id": "156cda8c",
   "metadata": {},
   "source": [
    "### 결과와 같이 동작될 수 있도록 mymod 모듈 작성하고 사용하기\n",
    "myfunc 실행결과 -1"
   ]
  },
  {
   "cell_type": "code",
   "execution_count": null,
   "id": "4de298a8",
   "metadata": {},
   "outputs": [],
   "source": [
    "# myfunc 모듈 가져오기\n",
    "\n",
    "result = myfunc(1, 2)\n",
    "print(f'myfunc 실행결과 {result}')"
   ]
  },
  {
   "cell_type": "markdown",
   "id": "58a90e9f",
   "metadata": {},
   "source": [
    "### 결과와 같이 동작될 수 있도록 pw_encoder 모듈 작성하고 사용하기\n",
    "1234 => 03ac674216f3e15c761ee1a5e255f067953623c8b388b4459e13f978d7c846f4"
   ]
  },
  {
   "cell_type": "code",
   "execution_count": null,
   "id": "745d9dcc",
   "metadata": {},
   "outputs": [],
   "source": [
    "# pw_encoder 모듈 가져오기\n",
    "\n",
    "raw_password = '1234'\n",
    "encoded_password = get_pw(raw_password)\n",
    "print(f'{raw_password} => {encoded_password}')"
   ]
  }
 ],
 "metadata": {
  "kernelspec": {
   "display_name": ".venv",
   "language": "python",
   "name": "python3"
  },
  "language_info": {
   "codemirror_mode": {
    "name": "ipython",
    "version": 3
   },
   "file_extension": ".py",
   "mimetype": "text/x-python",
   "name": "python",
   "nbconvert_exporter": "python",
   "pygments_lexer": "ipython3",
   "version": "3.13.7"
  }
 },
 "nbformat": 4,
 "nbformat_minor": 5
}
