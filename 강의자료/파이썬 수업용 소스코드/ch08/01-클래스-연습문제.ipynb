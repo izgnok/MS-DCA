{
 "cells": [
  {
   "cell_type": "markdown",
   "id": "a9b33e80",
   "metadata": {},
   "source": [
    "### 아래의 코드가 실행되어 결과와 같이 출력될 수 있도록 메소드 작성하기\n",
    "Python 10000<br>\n",
    "Java 10000"
   ]
  },
  {
   "cell_type": "code",
   "execution_count": null,
   "id": "2b1b1000",
   "metadata": {},
   "outputs": [],
   "source": [
    "class Book:\n",
    "  # 코드 작성\n",
    "\n",
    "book1 = Book()\n",
    "book1.setTitle('Python')\n",
    "book1.setPrice(10000)\n",
    "print(book1.title, book1.price)\n",
    "\n",
    "book2 = Book()\n",
    "book2.setTitle('Java')\n",
    "book2.setPrice(10000)\n",
    "print(book2.title, book2.price)"
   ]
  },
  {
   "cell_type": "markdown",
   "id": "d9c64c64",
   "metadata": {},
   "source": [
    "### 아래의 코드가 실행되어 결과와 같이 출력될 수 있도록 메소드 작성하기\n",
    "name=clock, code=c0001, count=500<br>\n",
    "name=tv, code=t0001, count=1500"
   ]
  },
  {
   "cell_type": "code",
   "execution_count": null,
   "id": "3dd56d34",
   "metadata": {},
   "outputs": [],
   "source": [
    "class Product:\n",
    "  # 생성자 작성\n",
    "\n",
    "  def show_info(self):\n",
    "    return 'name=%s, code=%s, count=%s' % (\n",
    "            self.name, self.code, self.count)\n",
    "\n",
    "p1 = Product('clock', 'c0001', 500)\n",
    "print(p1.show_info())\n",
    "\n",
    "p2 = Product('tv', 't0001', 1500)\n",
    "print(p2.show_info())"
   ]
  },
  {
   "cell_type": "markdown",
   "id": "c78a217c",
   "metadata": {},
   "source": [
    "### 내용을 저장하고 저장된 내용을 읽을 수 있는 Letter 클래스 작성하기\n",
    "가나다라카타파하<br>\n",
    "ABCDWXYZ"
   ]
  },
  {
   "cell_type": "code",
   "execution_count": null,
   "id": "25e07cbd",
   "metadata": {},
   "outputs": [],
   "source": [
    "class Letter:\n",
    "  # 생성자 작성, 변수 초기화\n",
    "\n",
    "  # write 메소드 작성\n",
    "\n",
    "  # show 메소드 작성\n",
    "\n",
    "letter1 = Letter()\n",
    "letter1.write('가나다라')\n",
    "letter1.write('카타파하')\n",
    "print(letter1.show())\n",
    "\n",
    "letter2 = Letter()\n",
    "letter2.write('ABCD')\n",
    "letter2.write('WXYZ')\n",
    "print(letter2.show())"
   ]
  },
  {
   "cell_type": "markdown",
   "id": "ac16c0e9",
   "metadata": {},
   "source": [
    "### 자동차 옵션을 추가하고 추가된 옵션을 확인할 수 있는 Car 클래스 작성하기\n",
    "전동 트렁크, 통풍 시트<br>\n",
    "뒷자리 에어백, 하이패스"
   ]
  },
  {
   "cell_type": "code",
   "execution_count": null,
   "id": "267e25e0",
   "metadata": {},
   "outputs": [],
   "source": [
    "class Car:\n",
    "  # 생성자 작성, 변수 초기화\n",
    "\n",
    "  # add_option 메소드 작성\n",
    "  \n",
    "  # show_option 메소드 작성\n",
    "\n",
    "car1 = Car()\n",
    "car2 = Car()\n",
    "\n",
    "car1.add_option('전동 트렁크')\n",
    "car1.add_option('통풍 시트')\n",
    "print(car1.show_option())\n",
    "\n",
    "car2.add_option('뒷자리 에어백')\n",
    "car2.add_option('하이패스')\n",
    "print(car2.show_option())"
   ]
  },
  {
   "cell_type": "markdown",
   "id": "ad0c60af",
   "metadata": {},
   "source": [
    "### Shape 클래스를 상속받는 Rectangle, Triangle 클래스 작성하기\n",
    "Draw Rectangle<br>\n",
    "area => 400<br>\n",
    "Draw Triangle<br>\n",
    "area => 200"
   ]
  },
  {
   "cell_type": "code",
   "execution_count": null,
   "id": "5059aba0",
   "metadata": {},
   "outputs": [],
   "source": [
    "class Shape:\n",
    "  def __init__(self, width, height, color):\n",
    "    self.width = width\n",
    "    self.height = height\n",
    "    self.color = color\n",
    "\n",
    "  def draw(self):\n",
    "    print('draw')\n",
    "\n",
    "  def getArea(self):\n",
    "    print(self.width * self.height)\n",
    "\n",
    "# 코드 작성 - Rectangle, Triangle 클래스\n",
    "\n",
    "rect = Rectangle(20, 20, 'blue')\n",
    "rect.draw()\n",
    "rect.getArea()\n",
    "\n",
    "tri = Triangle(20, 20, 'red')\n",
    "tri.draw()\n",
    "tri.getArea()"
   ]
  }
 ],
 "metadata": {
  "kernelspec": {
   "display_name": ".venv",
   "language": "python",
   "name": "python3"
  },
  "language_info": {
   "codemirror_mode": {
    "name": "ipython",
    "version": 3
   },
   "file_extension": ".py",
   "mimetype": "text/x-python",
   "name": "python",
   "nbconvert_exporter": "python",
   "pygments_lexer": "ipython3",
   "version": "3.13.7"
  }
 },
 "nbformat": 4,
 "nbformat_minor": 5
}
