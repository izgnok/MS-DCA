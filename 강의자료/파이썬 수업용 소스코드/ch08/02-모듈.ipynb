{
 "cells": [
  {
   "cell_type": "code",
   "execution_count": 1,
   "id": "c7df6315",
   "metadata": {},
   "outputs": [
    {
     "name": "stdout",
     "output_type": "stream",
     "text": [
      "6\n"
     ]
    }
   ],
   "source": [
    "import random\n",
    "num = random.randint(1, 10)\n",
    "print(num)"
   ]
  },
  {
   "cell_type": "code",
   "execution_count": 2,
   "id": "e7cd842a",
   "metadata": {},
   "outputs": [
    {
     "name": "stdout",
     "output_type": "stream",
     "text": [
      "8\n",
      "2\n",
      "15\n",
      "1.6666666666666667\n"
     ]
    }
   ],
   "source": [
    "# 모듈 작성 및 사용 (import)\n",
    "import calculator\n",
    "\n",
    "result1 = calculator.plus(5, 3)\n",
    "print(result1)\n",
    "\n",
    "result2 = calculator.minus(5, 3)\n",
    "print(result2)\n",
    "\n",
    "result3 = calculator.multiply(5, 3)\n",
    "print(result3)\n",
    "\n",
    "result4 = calculator.divide(5, 3)\n",
    "print(result4)"
   ]
  },
  {
   "cell_type": "code",
   "execution_count": 3,
   "id": "76e0b625",
   "metadata": {},
   "outputs": [
    {
     "name": "stdout",
     "output_type": "stream",
     "text": [
      "8\n",
      "2\n",
      "15\n",
      "1.6666666666666667\n"
     ]
    }
   ],
   "source": [
    "# 모듈 작성 및 사용 (from - import)\n",
    "from calculator import plus, minus, multiply, divide\n",
    "\n",
    "result1 = plus(5, 3)\n",
    "print(result1)\n",
    "\n",
    "result2 = minus(5, 3)\n",
    "print(result2)\n",
    "\n",
    "result3 = multiply(5, 3)\n",
    "print(result3)\n",
    "\n",
    "result4 = divide(5, 3)\n",
    "print(result4)"
   ]
  },
  {
   "cell_type": "code",
   "execution_count": null,
   "id": "cad9418f",
   "metadata": {},
   "outputs": [],
   "source": [
    "# 모듈 작성 및 사용 (alias)\n",
    "from calculator import plus as p, minus as m, multiply as mul, divide as div\n",
    "\n",
    "result1 = p(5, 3)\n",
    "print(result1)\n",
    "\n",
    "result2 = m(5, 3)\n",
    "print(result2)\n",
    "\n",
    "result3 = mul(5, 3)\n",
    "print(result3)\n",
    "\n",
    "result4 = div(5, 3)\n",
    "print(result4)"
   ]
  },
  {
   "cell_type": "code",
   "execution_count": null,
   "id": "00d43e99",
   "metadata": {},
   "outputs": [],
   "source": [
    "# 모듈 작성 및 사용 (alias)\n",
    "import calculator as cal\n",
    "\n",
    "result1 = cal.plus(5, 3)\n",
    "print(result1)\n",
    "\n",
    "result2 = cal.minus(5, 3)\n",
    "print(result2)\n",
    "\n",
    "result3 = cal.multiply(5, 3)\n",
    "print(result3)\n",
    "\n",
    "result4 = cal.divide(5, 3)\n",
    "print(result4)"
   ]
  }
 ],
 "metadata": {
  "kernelspec": {
   "display_name": ".venv",
   "language": "python",
   "name": "python3"
  },
  "language_info": {
   "codemirror_mode": {
    "name": "ipython",
    "version": 3
   },
   "file_extension": ".py",
   "mimetype": "text/x-python",
   "name": "python",
   "nbconvert_exporter": "python",
   "pygments_lexer": "ipython3",
   "version": "3.13.7"
  }
 },
 "nbformat": 4,
 "nbformat_minor": 5
}
