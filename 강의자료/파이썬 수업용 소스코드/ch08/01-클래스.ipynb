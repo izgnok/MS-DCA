{
 "cells": [
  {
   "cell_type": "code",
   "execution_count": null,
   "id": "c70d009b",
   "metadata": {},
   "outputs": [
    {
     "name": "stdout",
     "output_type": "stream",
     "text": [
      "20\n",
      "현재 클래스 변수 101\n",
      "20\n",
      "현재 클래스 변수 102\n"
     ]
    }
   ],
   "source": [
    "class 클래스:\n",
    "  클래스변수 = 100\n",
    "  \n",
    "  def __init__(self): # 생성자\n",
    "    self.전역변수 = 10\n",
    "\n",
    "  def 인스턴스메소드(self):\n",
    "    self.전역변수 += 10\n",
    "    print(self.전역변수)\n",
    "  \n",
    "  @staticmethod\n",
    "  def 정적메소드():\n",
    "    지역변수 = 100\n",
    "    print(f'함수 동작 {지역변수}')\n",
    "  \n",
    "  @classmethod\n",
    "  def 클래스메소드(cls):\n",
    "    print(cls.클래스변수)\n",
    "\n",
    "객체1 = 클래스()\n",
    "객체1.인스턴스메소드()\n",
    "\n",
    "객체2 = 클래스()\n",
    "객체2.인스턴스메소드()\n",
    "\n",
    "클래스.정적메소드()\n",
    "클래스.클래스메소드()"
   ]
  },
  {
   "cell_type": "code",
   "execution_count": null,
   "id": "9c271e6a",
   "metadata": {},
   "outputs": [
    {
     "name": "stdout",
     "output_type": "stream",
     "text": [
      "전원 ON\n",
      "전원 OFF\n"
     ]
    }
   ],
   "source": [
    "# 클래스\n",
    "class Computer:\n",
    "  def powerOn(self):\n",
    "    self.power = True\n",
    "    print('전원 ON')\n",
    "\n",
    "  def powerOff(self):\n",
    "    self.power = False\n",
    "    print('전원 OFF')\n",
    "\n",
    "com = Computer()\n",
    "com.powerOn()\n",
    "com.powerOff()"
   ]
  },
  {
   "cell_type": "code",
   "execution_count": 8,
   "id": "57744c2a",
   "metadata": {},
   "outputs": [
    {
     "name": "stdout",
     "output_type": "stream",
     "text": [
      "전원 ON\n",
      "전원 OFF\n"
     ]
    }
   ],
   "source": [
    "# 인스턴스 생성\n",
    "class Computer:\n",
    "  def powerOn(self):\n",
    "    self.power = True\n",
    "    print('전원 ON')\n",
    "\n",
    "  def powerOff(self):\n",
    "    self.power = False\n",
    "    print('전원 OFF')\n",
    "\n",
    "com1 = Computer()\n",
    "com1.powerOn()\n",
    "\n",
    "com2 = Computer()\n",
    "com2.powerOff()"
   ]
  },
  {
   "cell_type": "code",
   "execution_count": 11,
   "id": "654470c8",
   "metadata": {},
   "outputs": [
    {
     "name": "stdout",
     "output_type": "stream",
     "text": [
      "학번: 1, 학년: 3, 이름: kim\n"
     ]
    }
   ],
   "source": [
    "# 학생 정보를 저장할 수 있는 클래스\n",
    "class Student:\n",
    "  def setNum(self, num):\n",
    "    self.num = num\n",
    "\n",
    "  def setGrade(self, grade):\n",
    "    self.grade = grade\n",
    "\n",
    "  def setName(self, name):\n",
    "    self.name = name\n",
    "\n",
    "  def __str__(self):\n",
    "    return f'학번: {self.num}, 학년: {self.grade}, 이름: {self.name}'\n",
    "\n",
    "s = Student() \n",
    "s.setNum(1) \n",
    "s.setGrade(3) \n",
    "s.setName('kim')\n",
    "print(s)"
   ]
  },
  {
   "cell_type": "code",
   "execution_count": 12,
   "id": "d734f87e",
   "metadata": {},
   "outputs": [
    {
     "name": "stdout",
     "output_type": "stream",
     "text": [
      "1 1 Anonymous\n"
     ]
    }
   ],
   "source": [
    "# 생성자를 이용한 초기화\n",
    "class Student:\n",
    "  def __init__(self):\n",
    "    self.num = 1\n",
    "    self.grade = 1\n",
    "    self.name = 'Anonymous'\n",
    "\n",
    "  def setNum (self, num):\n",
    "    self.num = num\n",
    "\n",
    "  def setGrade (self, grade):\n",
    "    self.grade = grade\n",
    "\n",
    "  def setName (self, name):\n",
    "    self.name = name\n",
    "    \n",
    "s = Student()\n",
    "print(s.num, s.grade, s.name)"
   ]
  },
  {
   "cell_type": "code",
   "execution_count": 13,
   "id": "8ff9de35",
   "metadata": {},
   "outputs": [
    {
     "name": "stdout",
     "output_type": "stream",
     "text": [
      "100 4 park\n"
     ]
    }
   ],
   "source": [
    "# 생성자를 이용한 초기화\n",
    "class Student:\n",
    "  def __init__(self, num, grade, name):\n",
    "    self.num = num\n",
    "    self.grade = grade\n",
    "    self.name = name\n",
    "\n",
    "  def setNum (self, num):\n",
    "    self.num = num\n",
    "\n",
    "  def setGrade (self, grade):\n",
    "    self.grade = grade\n",
    "\n",
    "  def setName (self, name):\n",
    "    self.name = name\n",
    "    \n",
    "s = Student(100, 4, 'park')\n",
    "print(s.num, s.grade, s.name)"
   ]
  },
  {
   "cell_type": "code",
   "execution_count": 14,
   "id": "33d66452",
   "metadata": {},
   "outputs": [
    {
     "name": "stdout",
     "output_type": "stream",
     "text": [
      "ShuShu makes a noise\n"
     ]
    }
   ],
   "source": [
    "# 상속\n",
    "# 부모 클래스\n",
    "class Animal:\n",
    "  def __init__(self, name):\n",
    "    self.name = name\n",
    "\n",
    "  def speak(self):\n",
    "    return '%s makes a noise' % self.name\n",
    "\n",
    "# 자식 클래스\n",
    "class Dog(Animal):\n",
    "  pass\n",
    "\n",
    "# 사용\n",
    "dog = Dog('ShuShu')\n",
    "print(dog.speak())"
   ]
  },
  {
   "cell_type": "code",
   "execution_count": null,
   "id": "afa0a90c",
   "metadata": {},
   "outputs": [
    {
     "name": "stdout",
     "output_type": "stream",
     "text": [
      "ShuShu makes a noise\n",
      "ShuShu run\n"
     ]
    }
   ],
   "source": [
    "# 기능 추가 - 부모 클래스에는 없고 자식 클래스만 가지는 메소드 추가\n",
    "class Dog(Animal):\n",
    "\n",
    "  def run(self):\n",
    "    return '%s run' % self.name\n",
    "  \n",
    "dog = Dog('ShuShu')\n",
    "print(dog.speak())\n",
    "print(dog.run())"
   ]
  },
  {
   "cell_type": "code",
   "execution_count": 16,
   "id": "b4228c6c",
   "metadata": {},
   "outputs": [
    {
     "name": "stdout",
     "output_type": "stream",
     "text": [
      "ShuShu 멍멍\n",
      "ShuShu run\n"
     ]
    }
   ],
   "source": [
    "# 오버라이드 - 부모 클래스의 메소드를 재정의하여 자식 클래스만의 기능으로 작성\n",
    "class Dog(Animal):\n",
    "\n",
    "  def speak(self):\n",
    "    return '%s 멍멍' % self.name\n",
    "\n",
    "  def run(self):\n",
    "    return '%s run' % self.name\n",
    "\n",
    "dog = Dog('ShuShu')\n",
    "print(dog.speak())\n",
    "print(dog.run())"
   ]
  },
  {
   "cell_type": "code",
   "execution_count": null,
   "id": "2d20f0c4",
   "metadata": {},
   "outputs": [],
   "source": [
    "# PyQt 상속 예) - 기본 Window 사용\n",
    "import sys\n",
    "from PyQt5.QtWidgets import *\n",
    "\n",
    "app = QApplication.instance()\n",
    "if not app:\n",
    "  app = QApplication(sys.argv)\n",
    "\n",
    "mywindow = QMainWindow()\n",
    "mywindow.show()\n",
    "\n",
    "app.exec_()"
   ]
  },
  {
   "cell_type": "code",
   "execution_count": null,
   "id": "c9bd2431",
   "metadata": {},
   "outputs": [],
   "source": [
    "# PyQt 상속 예) - Window를 상속받은 후 커스터마이징 - 종료 버튼 추가\n",
    "import sys\n",
    "from PyQt5.QtWidgets import *\n",
    "\n",
    "class MyWindow(QMainWindow):\n",
    "  def __init__(self):\n",
    "    super().__init__()\n",
    "    self.btn = QPushButton(\"종료\", self)\n",
    "\n",
    "app = QApplication.instance()\n",
    "if not app:\n",
    "  app = QApplication(sys.argv)\n",
    "\n",
    "mywindow = MyWindow()\n",
    "mywindow.show()\n",
    "\n",
    "app.exec_()"
   ]
  },
  {
   "cell_type": "code",
   "execution_count": 17,
   "id": "ecf724a2",
   "metadata": {},
   "outputs": [
    {
     "data": {
      "text/plain": [
       "0"
      ]
     },
     "execution_count": 17,
     "metadata": {},
     "output_type": "execute_result"
    }
   ],
   "source": [
    "# PyQt 상속 예) - Window를 상속받은 후 커스터마이징 - 종료 버튼 위치 지정, 종료 기능 추가\n",
    "import sys\n",
    "from PyQt5.QtWidgets import *\n",
    "\n",
    "class MyWindow(QMainWindow):\n",
    "  def __init__(self):\n",
    "    super().__init__()\n",
    "    self.btn = QPushButton(\"종료\", self)\n",
    "    self.btn.move(20, 20)\n",
    "    self.btn.clicked.connect(self.btn_clicked)\n",
    "\n",
    "  def btn_clicked(self):\n",
    "    self.close()\n",
    "\n",
    "app = QApplication.instance()\n",
    "if not app:\n",
    "  app = QApplication(sys.argv)\n",
    "\n",
    "mywindow = MyWindow()\n",
    "mywindow.show()\n",
    "\n",
    "app.exec_()"
   ]
  }
 ],
 "metadata": {
  "kernelspec": {
   "display_name": ".venv",
   "language": "python",
   "name": "python3"
  },
  "language_info": {
   "codemirror_mode": {
    "name": "ipython",
    "version": 3
   },
   "file_extension": ".py",
   "mimetype": "text/x-python",
   "name": "python",
   "nbconvert_exporter": "python",
   "pygments_lexer": "ipython3",
   "version": "3.13.7"
  }
 },
 "nbformat": 4,
 "nbformat_minor": 5
}
