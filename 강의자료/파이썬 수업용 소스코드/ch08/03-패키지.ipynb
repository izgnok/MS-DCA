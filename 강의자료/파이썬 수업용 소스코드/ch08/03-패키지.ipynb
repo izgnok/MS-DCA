{
 "cells": [
  {
   "cell_type": "code",
   "execution_count": 1,
   "id": "8e469e61",
   "metadata": {},
   "outputs": [
    {
     "name": "stdout",
     "output_type": "stream",
     "text": [
      "sound mp3!\n",
      "sound wav!\n",
      "vga ati!\n",
      "vga nvidia!\n",
      "----\n",
      "mp3~~\n",
      "wav~~\n"
     ]
    }
   ],
   "source": [
    "import driver.sound.mp3\n",
    "from driver.sound.wav import *\n",
    "import driver.vga.ati\n",
    "from driver.vga.nvidia import *\n",
    "\n",
    "print('----')\n",
    "\n",
    "driver.sound.mp3.sound()\n",
    "sound() # driver.sound.wav"
   ]
  },
  {
   "cell_type": "code",
   "execution_count": 2,
   "id": "5b7fecee",
   "metadata": {},
   "outputs": [
    {
     "name": "stdout",
     "output_type": "stream",
     "text": [
      "mp3~~\n",
      "wav~~\n"
     ]
    }
   ],
   "source": [
    "from driver.sound import *\n",
    "from driver.vga import *\n",
    "mp3.sound()\n",
    "wav.sound()"
   ]
  }
 ],
 "metadata": {
  "kernelspec": {
   "display_name": ".venv",
   "language": "python",
   "name": "python3"
  },
  "language_info": {
   "codemirror_mode": {
    "name": "ipython",
    "version": 3
   },
   "file_extension": ".py",
   "mimetype": "text/x-python",
   "name": "python",
   "nbconvert_exporter": "python",
   "pygments_lexer": "ipython3",
   "version": "3.13.7"
  }
 },
 "nbformat": 4,
 "nbformat_minor": 5
}
