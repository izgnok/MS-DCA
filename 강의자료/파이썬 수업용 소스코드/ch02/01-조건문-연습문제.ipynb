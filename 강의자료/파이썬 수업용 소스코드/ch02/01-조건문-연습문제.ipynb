{
 "cells": [
  {
   "cell_type": "markdown",
   "id": "a28e4bf6",
   "metadata": {},
   "source": [
    "### 주어진 숫자가 홀수인지 짝수인지 확인할 수 있는 조건문 작성하기"
   ]
  },
  {
   "cell_type": "code",
   "execution_count": null,
   "id": "8496ff15",
   "metadata": {},
   "outputs": [],
   "source": [
    "num = 122\n"
   ]
  },
  {
   "cell_type": "markdown",
   "id": "ff65aa75",
   "metadata": {},
   "source": [
    "### Dictionary로 구성된 이수 과목 데이터 중\n",
    "### '자료구조'가 있는지 확인하여\n",
    "### '자료구조'의 점수가 60점 이상이면 '이수 완료'를 출력하고\n",
    "### 조건이 맞지 않으면 '재수강'을 출력하는 코드 작성"
   ]
  },
  {
   "cell_type": "code",
   "execution_count": null,
   "id": "1087b715",
   "metadata": {},
   "outputs": [],
   "source": [
    "subject = { '자료구조': 80, '알고리즘': 60, '네트워크': 90 }\n"
   ]
  }
 ],
 "metadata": {
  "kernelspec": {
   "display_name": ".venv",
   "language": "python",
   "name": "python3"
  },
  "language_info": {
   "codemirror_mode": {
    "name": "ipython",
    "version": 3
   },
   "file_extension": ".py",
   "mimetype": "text/x-python",
   "name": "python",
   "nbconvert_exporter": "python",
   "pygments_lexer": "ipython3",
   "version": "3.13.7"
  }
 },
 "nbformat": 4,
 "nbformat_minor": 5
}
