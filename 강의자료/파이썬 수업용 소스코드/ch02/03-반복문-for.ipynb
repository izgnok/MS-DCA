{
 "cells": [
  {
   "cell_type": "code",
   "execution_count": 1,
   "id": "e2b25f46",
   "metadata": {},
   "outputs": [
    {
     "name": "stdout",
     "output_type": "stream",
     "text": [
      "Pass\n"
     ]
    }
   ],
   "source": [
    "# if - 점수가 60점 이상인 경우 합격\n",
    "score = 60\n",
    "if score >= 60:\n",
    "  print('Pass')"
   ]
  },
  {
   "cell_type": "code",
   "execution_count": 2,
   "id": "65f019bb",
   "metadata": {},
   "outputs": [
    {
     "name": "stdout",
     "output_type": "stream",
     "text": [
      "Pass\n"
     ]
    }
   ],
   "source": [
    "# if / else - 점수가 60점 이상인 경우 합격, 그 외 경우 불합격\n",
    "score = 60\n",
    "if score >= 60:\n",
    "  print('Pass')\n",
    "else:\n",
    "  print('Fail')"
   ]
  },
  {
   "cell_type": "code",
   "execution_count": 3,
   "id": "d3126f51",
   "metadata": {},
   "outputs": [
    {
     "name": "stdout",
     "output_type": "stream",
     "text": [
      "Retake\n"
     ]
    }
   ],
   "source": [
    "# if / elif / else - 점수가 70점 이상인 경우 합격, 60점 이상인 경우 재시험\n",
    "# 그 외 경우 불합격\n",
    "score = 60\n",
    "if score >= 70:\n",
    "  print('Pass')\n",
    "elif score >= 60:\n",
    "  print('Retake')\n",
    "else:\n",
    "  print('Fail')"
   ]
  },
  {
   "cell_type": "code",
   "execution_count": 4,
   "id": "a63b0ae9",
   "metadata": {},
   "outputs": [
    {
     "name": "stdout",
     "output_type": "stream",
     "text": [
      "인터넷 검색 가능\n"
     ]
    }
   ],
   "source": [
    "hasPC = True\n",
    "hasPhone = False\n",
    "if hasPC or hasPhone:\n",
    "  print('인터넷 검색 가능')\n",
    "else:\n",
    "  print('인터넷 검색 불가')"
   ]
  },
  {
   "cell_type": "code",
   "execution_count": 5,
   "id": "41f1ca6d",
   "metadata": {},
   "outputs": [
    {
     "name": "stdout",
     "output_type": "stream",
     "text": [
      "술 구매 가능\n"
     ]
    }
   ],
   "source": [
    "age = 20\n",
    "hasIDCard = True\n",
    "if age >= 20 and hasIDCard:\n",
    "  print('술 구매 가능')\n",
    "else:\n",
    "  print('술 구매 불가')"
   ]
  },
  {
   "cell_type": "code",
   "execution_count": 6,
   "id": "0738adeb",
   "metadata": {},
   "outputs": [
    {
     "name": "stdout",
     "output_type": "stream",
     "text": [
      "True\n",
      "False\n"
     ]
    }
   ],
   "source": [
    "# 문자\n",
    "text = 'python'\n",
    "print('th' in text)\n",
    "print('P' in text)"
   ]
  },
  {
   "cell_type": "code",
   "execution_count": 7,
   "id": "00be1c9b",
   "metadata": {},
   "outputs": [
    {
     "name": "stdout",
     "output_type": "stream",
     "text": [
      "True\n",
      "False\n"
     ]
    }
   ],
   "source": [
    "# List\n",
    "items = [1, 2, 3, 4, 5]\n",
    "print(1 in items)\n",
    "print(0 in items)"
   ]
  },
  {
   "cell_type": "code",
   "execution_count": 8,
   "id": "957345f7",
   "metadata": {},
   "outputs": [
    {
     "name": "stdout",
     "output_type": "stream",
     "text": [
      "True\n",
      "False\n"
     ]
    }
   ],
   "source": [
    "# Dictionary\n",
    "dic = { 'a' : 1, 'b' : 2, 'c' : 3 }\n",
    "print('d' not in dic)\n",
    "print('a' not in dic)"
   ]
  },
  {
   "cell_type": "code",
   "execution_count": 9,
   "id": "697221af",
   "metadata": {},
   "outputs": [
    {
     "name": "stdout",
     "output_type": "stream",
     "text": [
      "True\n",
      "False\n"
     ]
    }
   ],
   "source": [
    "# Set\n",
    "s = { 1, 2, 3, 4, 5 }\n",
    "print(2 in s)\n",
    "print('2' in s)"
   ]
  },
  {
   "cell_type": "markdown",
   "id": "b55565b4",
   "metadata": {},
   "source": [
    "### 조건부 표현식"
   ]
  },
  {
   "cell_type": "code",
   "execution_count": 10,
   "id": "c7dea6b4",
   "metadata": {},
   "outputs": [
    {
     "name": "stdout",
     "output_type": "stream",
     "text": [
      "FAIL\n",
      "FAIL\n"
     ]
    }
   ],
   "source": [
    "score = 40\n",
    "if score >= 60:\n",
    "  print('PASS')\n",
    "else:\n",
    "  print('FAIL')\n",
    "  \n",
    "print('PASS') if score >= 60 else print('FAIL')"
   ]
  },
  {
   "cell_type": "code",
   "execution_count": 11,
   "id": "640c795a",
   "metadata": {},
   "outputs": [
    {
     "name": "stdout",
     "output_type": "stream",
     "text": [
      "FAIL\n",
      "FAIL\n"
     ]
    }
   ],
   "source": [
    "score = 40\n",
    "if score >= 60:\n",
    "  msg = 'PASS'\n",
    "else:\n",
    "  msg = 'FAIL'\n",
    "print(msg)\n",
    "msg = 'PASS' if score >= 60 else 'FAIL'\n",
    "print(msg)"
   ]
  }
 ],
 "metadata": {
  "kernelspec": {
   "display_name": ".venv",
   "language": "python",
   "name": "python3"
  },
  "language_info": {
   "codemirror_mode": {
    "name": "ipython",
    "version": 3
   },
   "file_extension": ".py",
   "mimetype": "text/x-python",
   "name": "python",
   "nbconvert_exporter": "python",
   "pygments_lexer": "ipython3",
   "version": "3.13.7"
  }
 },
 "nbformat": 4,
 "nbformat_minor": 5
}
