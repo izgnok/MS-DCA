{
 "cells": [
  {
   "cell_type": "markdown",
   "id": "a28e4bf6",
   "metadata": {},
   "source": [
    "### 1부터 1000 까지의 정수 합 구하기"
   ]
  },
  {
   "cell_type": "code",
   "execution_count": null,
   "id": "8496ff15",
   "metadata": {},
   "outputs": [],
   "source": []
  },
  {
   "cell_type": "markdown",
   "id": "6b494a2e",
   "metadata": {},
   "source": [
    "### 1부터 1000 까지의 정수 중 짝수의 합 구하기"
   ]
  },
  {
   "cell_type": "code",
   "execution_count": null,
   "id": "01271967",
   "metadata": {},
   "outputs": [],
   "source": []
  },
  {
   "cell_type": "markdown",
   "id": "36bcd1f3",
   "metadata": {},
   "source": [
    "### 1부터 1000 까지의 정수 중 3의 배수이면서 5의 배수인 수 합 구하기"
   ]
  },
  {
   "cell_type": "code",
   "execution_count": null,
   "id": "91218fec",
   "metadata": {},
   "outputs": [],
   "source": []
  }
 ],
 "metadata": {
  "kernelspec": {
   "display_name": ".venv",
   "language": "python",
   "name": "python3"
  },
  "language_info": {
   "codemirror_mode": {
    "name": "ipython",
    "version": 3
   },
   "file_extension": ".py",
   "mimetype": "text/x-python",
   "name": "python",
   "nbconvert_exporter": "python",
   "pygments_lexer": "ipython3",
   "version": "3.13.7"
  }
 },
 "nbformat": 4,
 "nbformat_minor": 5
}
