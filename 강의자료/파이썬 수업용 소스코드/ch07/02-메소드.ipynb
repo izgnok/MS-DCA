{
 "cells": [
  {
   "cell_type": "code",
   "execution_count": null,
   "id": "c9213e65",
   "metadata": {},
   "outputs": [],
   "source": [
    "# findall() - 정규식과 매치되는 모든 문자열을 List로 반환\n",
    "import re\n",
    "pattern = re.compile(r'[a-z]+')\n",
    "result = pattern.findall('Life is too short, You need Python')\n",
    "print(result)"
   ]
  },
  {
   "cell_type": "code",
   "execution_count": null,
   "id": "a8429d82",
   "metadata": {},
   "outputs": [],
   "source": [
    "# findall() - 모든 숫자 List로 반환\n",
    "import re\n",
    "pattern = re.compile(r'[^-]') # 하이픈(-)이 아닌 1개 문자\n",
    "result = pattern.findall('010-8478-8181')\n",
    "print(result)\n",
    "pattern = re.compile(r'[^-]+') # 하이픈(-)이 아닌 1개 이상의 문자\n",
    "result = pattern.findall('010-8478-8181')\n",
    "print(result)"
   ]
  },
  {
   "cell_type": "code",
   "execution_count": null,
   "id": "3f5e28f0",
   "metadata": {},
   "outputs": [],
   "source": [
    "# findall() - 에러 번호 찾아내기\n",
    "import re\n",
    "pattern = re.compile(r'에러\\s*(\\d+)')\n",
    "result = pattern.findall('에러 404 : 페이지 없음\\n 에러 500 : 서버 오류')\n",
    "print(result)"
   ]
  },
  {
   "cell_type": "code",
   "execution_count": null,
   "id": "235b3448",
   "metadata": {},
   "outputs": [],
   "source": [
    "# findall() - 이름 찾아내기\n",
    "import re\n",
    "pattern = re.compile(r'이름\\s*:\\s*(\\w+)')\n",
    "result = pattern.findall(\n",
    "  '이름:홍길동, 이름     : 김길동, 이름 :      최길동')\n",
    "print(result)"
   ]
  },
  {
   "cell_type": "code",
   "execution_count": null,
   "id": "dfcb565f",
   "metadata": {},
   "outputs": [
    {
     "data": {
      "text/plain": [
       "28"
      ]
     },
     "execution_count": 1,
     "metadata": {},
     "output_type": "execute_result"
    }
   ],
   "source": [
    "# findall() - 특정 문자열 등장 횟수 확인하기\n",
    "with open('harry_potter.txt') as file:\n",
    "  text = file.read()\n",
    "\n",
    "import re\n",
    "\n",
    "pattern = re.compile(r'(Harry Potter)', re.I) # 대소문자 무시\n",
    "len(pattern.findall(text))"
   ]
  }
 ],
 "metadata": {
  "kernelspec": {
   "display_name": ".venv",
   "language": "python",
   "name": "python3"
  },
  "language_info": {
   "codemirror_mode": {
    "name": "ipython",
    "version": 3
   },
   "file_extension": ".py",
   "mimetype": "text/x-python",
   "name": "python",
   "nbconvert_exporter": "python",
   "pygments_lexer": "ipython3",
   "version": "3.13.7"
  }
 },
 "nbformat": 4,
 "nbformat_minor": 5
}
