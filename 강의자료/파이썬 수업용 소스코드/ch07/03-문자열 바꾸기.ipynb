{
 "cells": [
  {
   "cell_type": "code",
   "execution_count": null,
   "id": "35e9e6c0",
   "metadata": {},
   "outputs": [
    {
     "name": "stdout",
     "output_type": "stream",
     "text": [
      "GNU is Not OS, OS is not OS\n"
     ]
    }
   ],
   "source": [
    "# sub() - 문자열 바꾸기\n",
    "import re\n",
    "pattern = re.compile('Unix|Linux')\n",
    "text = 'GNU is Not Unix, Unix is not Linux'\n",
    "change = r'OS'\n",
    "result = pattern.sub(change, text)\n",
    "print(result)"
   ]
  },
  {
   "cell_type": "code",
   "execution_count": null,
   "id": "f7c123df",
   "metadata": {},
   "outputs": [
    {
     "name": "stdout",
     "output_type": "stream",
     "text": [
      "1번 ggoreb.co.kr, 2번 주소 ggoreb.co.kr 3번 - ggoreb.co.kr\n"
     ]
    }
   ],
   "source": [
    "# sub() - 문자열 바꾸기\n",
    "import re\n",
    "pattern = re.compile(r'\\w+@\\w+[.]\\w+')\n",
    "text = '1번 a@ggoreb.com, 2번 주소 b@ggoreb.info 3번 - c@ggoreb.net'\n",
    "change = r'ggoreb.co.kr'\n",
    "result = pattern.sub(change, text)\n",
    "print(result)"
   ]
  },
  {
   "cell_type": "code",
   "execution_count": 6,
   "id": "e5e8c95f",
   "metadata": {},
   "outputs": [
    {
     "name": "stdout",
     "output_type": "stream",
     "text": [
      "1번 a@ggoreb.co.kr, 2번 주소 b@ggoreb.co.kr 3번 - c@ggoreb.co.kr\n"
     ]
    }
   ],
   "source": [
    "# sub() - 문자열 바꾸기\n",
    "import re\n",
    "pattern = re.compile(r'(\\w+@)\\w+[.]\\w+')\n",
    "text = '1번 a@ggoreb.com, 2번 주소 b@ggoreb.info 3번 - c@ggoreb.net'\n",
    "change = r'\\g<1>ggoreb.co.kr'\n",
    "result = pattern.sub(change, text)\n",
    "print(result)"
   ]
  },
  {
   "cell_type": "code",
   "execution_count": 8,
   "id": "9f763f1d",
   "metadata": {},
   "outputs": [
    {
     "name": "stdout",
     "output_type": "stream",
     "text": [
      "*******\n"
     ]
    }
   ],
   "source": [
    "# sub() - 문자열 바꾸기\n",
    "import re\n",
    "pattern = re.compile(r'\\d{6}-\\d{7}')\n",
    "text = '791111-1234567'\n",
    "change = r'*******'\n",
    "result = pattern.sub(change, text)\n",
    "print(result)"
   ]
  },
  {
   "cell_type": "code",
   "execution_count": 9,
   "id": "2562acd5",
   "metadata": {},
   "outputs": [
    {
     "name": "stdout",
     "output_type": "stream",
     "text": [
      "791111-*******\n"
     ]
    }
   ],
   "source": [
    "# sub() - 문자열 바꾸기\n",
    "import re\n",
    "pattern = re.compile(r'(\\d{6}-)\\d{7}')\n",
    "text = '791111-1234567'\n",
    "change = r'\\g<1>*******'\n",
    "result = pattern.sub(change, text)\n",
    "print(result)"
   ]
  }
 ],
 "metadata": {
  "kernelspec": {
   "display_name": ".venv",
   "language": "python",
   "name": "python3"
  },
  "language_info": {
   "codemirror_mode": {
    "name": "ipython",
    "version": 3
   },
   "file_extension": ".py",
   "mimetype": "text/x-python",
   "name": "python",
   "nbconvert_exporter": "python",
   "pygments_lexer": "ipython3",
   "version": "3.13.7"
  }
 },
 "nbformat": 4,
 "nbformat_minor": 5
}
