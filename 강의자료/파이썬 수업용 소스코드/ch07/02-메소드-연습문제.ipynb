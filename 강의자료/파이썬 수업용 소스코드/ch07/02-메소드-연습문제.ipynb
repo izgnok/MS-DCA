{
 "cells": [
  {
   "cell_type": "markdown",
   "id": "1a9044c1",
   "metadata": {},
   "source": [
    "### 여러 기호를 제외하고 검색어만 확인하기\n",
    "- 조건 1) 검색어는 #기호 다음부터 시작\n",
    "- 조건 2) 여러 개의 검색어가 입력될 때는 comma(,)와 공백으로 구분\n",
    "- 조건 3) 검색어 구분자 중 공백은 한개 이상이 입력될 수 있음"
   ]
  },
  {
   "cell_type": "code",
   "execution_count": null,
   "id": "41dde01f",
   "metadata": {},
   "outputs": [],
   "source": [
    "import re\n",
    "pattern = re.compile('( ① )')\n",
    "text = '#서울, #강남, #맛집, #주꾸미'\n",
    "res = pattern.findall(text)\n",
    "print(res)"
   ]
  },
  {
   "cell_type": "markdown",
   "id": "9c58f308",
   "metadata": {},
   "source": [
    "### 이름 등장 횟수 확인하기"
   ]
  },
  {
   "cell_type": "code",
   "execution_count": null,
   "id": "ec11ec0c",
   "metadata": {},
   "outputs": [],
   "source": [
    "%pip install requests"
   ]
  },
  {
   "cell_type": "code",
   "execution_count": null,
   "id": "996bea99",
   "metadata": {},
   "outputs": [],
   "source": [
    "import requests\n",
    "import re\n",
    "res = requests.get('http://ggoreb.com/quiz/운수좋은날.txt')\n",
    "res.encoding = None\n",
    "text = res.text\n",
    "\n",
    "# 코드 작성"
   ]
  }
 ],
 "metadata": {
  "kernelspec": {
   "display_name": ".venv",
   "language": "python",
   "name": "python3"
  },
  "language_info": {
   "codemirror_mode": {
    "name": "ipython",
    "version": 3
   },
   "file_extension": ".py",
   "mimetype": "text/x-python",
   "name": "python",
   "nbconvert_exporter": "python",
   "pygments_lexer": "ipython3",
   "version": "3.13.7"
  }
 },
 "nbformat": 4,
 "nbformat_minor": 5
}
