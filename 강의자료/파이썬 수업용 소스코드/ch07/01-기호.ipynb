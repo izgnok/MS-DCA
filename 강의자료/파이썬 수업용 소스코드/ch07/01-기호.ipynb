{
 "cells": [
  {
   "cell_type": "code",
   "execution_count": 6,
   "id": "fdfe31c0",
   "metadata": {},
   "outputs": [
    {
     "name": "stdout",
     "output_type": "stream",
     "text": [
      "<re.Match object; span=(0, 1), match='a'>\n"
     ]
    }
   ],
   "source": [
    "# 정규 표현식 사용을 위한 모듈 import\n",
    "import re\n",
    "# 정규 표현식의 규칙 지정\n",
    "pattern = re.compile(r'[a]')\n",
    "# 정규 표현식 규칙에 문자열을 입력하여 확인\n",
    "print(pattern.search(r'a'))"
   ]
  },
  {
   "cell_type": "code",
   "execution_count": 7,
   "id": "ff0b1289",
   "metadata": {},
   "outputs": [
    {
     "name": "stdout",
     "output_type": "stream",
     "text": [
      "<re.Match object; span=(0, 1), match='a'>\n"
     ]
    }
   ],
   "source": [
    "import re\n",
    "# 함수를 바로 호출하는 방식\n",
    "print(re.search(r'[a]', 'a'))"
   ]
  },
  {
   "cell_type": "code",
   "execution_count": null,
   "id": "38e199f3",
   "metadata": {},
   "outputs": [
    {
     "name": "stdout",
     "output_type": "stream",
     "text": [
      "<re.Match object; span=(0, 1), match='a'>\n",
      "<re.Match object; span=(1, 2), match='a'>\n",
      "None\n"
     ]
    }
   ],
   "source": [
    "import re\n",
    "pattern = re.compile(r'[a]')\n",
    "text = 'a'\n",
    "print(pattern.search(text))\n",
    "# True - <re.Match object; span=(0, 1), match='a'>\n",
    "\n",
    "text = 'ba'\n",
    "print(pattern.search(text))\n",
    "# True - <re.Match object; span=(1, 2), match='a'>\n",
    "\n",
    "text = 'cd'\n",
    "print(pattern.search(text))\n",
    "# False - None"
   ]
  },
  {
   "cell_type": "code",
   "execution_count": null,
   "id": "abc6cf7a",
   "metadata": {},
   "outputs": [
    {
     "name": "stdout",
     "output_type": "stream",
     "text": [
      "<re.Match object; span=(0, 3), match='app'>\n",
      "<re.Match object; span=(0, 3), match='ace'>\n",
      "<re.Match object; span=(0, 5), match='apple'>\n",
      "<re.Match object; span=(0, 5), match='apple'>\n",
      "<re.Match object; span=(0, 5), match='apple'>\n",
      "None\n"
     ]
    }
   ],
   "source": [
    "# 기호들을 사용한 예시\n",
    "import re\n",
    "text = \"apple, ape, apricot, banana, apppple\"\n",
    "\n",
    "print(re.search(r\"a.p\", text)) \n",
    "# 'a' + 임의의 문자 + 'p' \n",
    "# → <re.Match object; span=(0, 3), match='app'>\n",
    "\n",
    "print(re.search(r\"a[bc]e\", \"ace abe ace\")) \n",
    "# a 다음에 b나 c가 오고 e로 끝\n",
    "# → <re.Match object; span=(0, 3), match='ace'>\n",
    "\n",
    "print(re.search(r\"ap*le\", text)) \n",
    "# 'a' + 'p' 0회 이상 + 'le'\n",
    "# → <re.Match object; span=(0, 5), match='apple'>\n",
    "\n",
    "print(re.search(r\"ap+le\", text)) \n",
    "# 'a' + 'p' 1회 이상 + 'le'\n",
    "# → <re.Match object; span=(0, 5), match='apple'>\n",
    "\n",
    "print(re.search(r\"ap{2}le\", text)) \n",
    "# 'a' + 'p' 2번 + 'le'\n",
    "# → <re.Match object; span=(0, 5), match='apple'>\n",
    "\n",
    "print(re.search(r\"ap?le\", text)) \n",
    "# 'p'가 0번 또는 1번\n",
    "# → None"
   ]
  },
  {
   "cell_type": "code",
   "execution_count": null,
   "id": "5f32ab11",
   "metadata": {},
   "outputs": [
    {
     "name": "stdout",
     "output_type": "stream",
     "text": [
      "<re.Match object; span=(0, 3), match='abc'>\n",
      "None\n",
      "None\n"
     ]
    }
   ],
   "source": [
    "# ^ 기호 - 시작\n",
    "import re\n",
    "pattern = re.compile(r'^abc')\n",
    "print(pattern.search('abc')) # 'a' 로 시작하고 bc\n",
    "print(pattern.search('ab'))\n",
    "print(pattern.search('가bc'))"
   ]
  },
  {
   "cell_type": "code",
   "execution_count": null,
   "id": "5d3ebd2f",
   "metadata": {},
   "outputs": [],
   "source": [
    "# ^ 기호 - 부정\n",
    "import re\n",
    "pattern = re.compile('[^abc]')\n",
    "print(pattern.search('a'))\n",
    "print(pattern.search('b'))\n",
    "print(pattern.search('c'))\n",
    "print(pattern.search('가')) # 'a' 또는 'b' 또는 'c' 아님"
   ]
  },
  {
   "cell_type": "code",
   "execution_count": 10,
   "id": "9b7c35df",
   "metadata": {},
   "outputs": [
    {
     "name": "stdout",
     "output_type": "stream",
     "text": [
      "<re.Match object; span=(0, 6), match='Hello.'>\n",
      "None\n"
     ]
    }
   ],
   "source": [
    "# $ 기호 - 끝\n",
    "import re\n",
    "pattern = re.compile(r'\\w+[.]$')\n",
    "print(pattern.search('Hello.')) # 문자 1개 이상 + 마지막 .\n",
    "print(pattern.search('Hi~'))"
   ]
  },
  {
   "cell_type": "code",
   "execution_count": 12,
   "id": "c571d0e6",
   "metadata": {},
   "outputs": [
    {
     "name": "stdout",
     "output_type": "stream",
     "text": [
      "<re.Match object; span=(0, 5), match='Hello'>\n",
      "<re.Match object; span=(0, 4), match='Bye.'>\n",
      "<re.Match object; span=(0, 12), match='Hi~ Good End'>\n"
     ]
    }
   ],
   "source": [
    "# | 기호 - 또는\n",
    "import re\n",
    "pattern = re.compile(r'^Hello|.*Bye.$|.*Good.*')\n",
    "print(pattern.search('Hello~')) # 시작 Hello\n",
    "print(pattern.search('Bye.')) # 마지막 Bye.\n",
    "print(pattern.search('Hi~ Good End')) # Good 포함"
   ]
  },
  {
   "cell_type": "code",
   "execution_count": 14,
   "id": "1058f637",
   "metadata": {},
   "outputs": [
    {
     "name": "stdout",
     "output_type": "stream",
     "text": [
      "010-8478-8181\n",
      "010-8478-8181\n",
      "010\n",
      "8478\n",
      "8181\n"
     ]
    }
   ],
   "source": [
    "# () 정규식 그룹화 (index)\n",
    "import re\n",
    "pattern = re.compile(r'(\\d{3})-(\\d{4})-(\\d{4})')\n",
    "result = pattern.search('010-8478-8181')\n",
    "print(result.group())\n",
    "print(result.group(0))\n",
    "print(result.group(1))\n",
    "print(result.group(2))\n",
    "print(result.group(3))"
   ]
  },
  {
   "cell_type": "code",
   "execution_count": 15,
   "id": "7b793401",
   "metadata": {},
   "outputs": [
    {
     "name": "stdout",
     "output_type": "stream",
     "text": [
      "{'a': '010', 'b': '8478', 'c': '8181'}\n",
      "010-8478-8181\n",
      "010-8478-8181\n",
      "010\n",
      "8478\n",
      "8181\n"
     ]
    }
   ],
   "source": [
    "# () 정규식 그룹화 (name)\n",
    "import re\n",
    "pattern = re.compile(r'(?P<a>\\d{3})-(?P<b>\\d{4})-(?P<c>\\d{4})')\n",
    "result = pattern.search('010-8478-8181')\n",
    "print(result.groupdict()) # Dictionary 형태로 접근 가능\n",
    "print(result.group())\n",
    "print(result.group(0))\n",
    "print(result.group('a')) # result.group(1)\n",
    "print(result.group('b')) # result.group(2)\n",
    "print(result.group('c')) # result.group(3)"
   ]
  },
  {
   "cell_type": "code",
   "execution_count": null,
   "id": "530294a5",
   "metadata": {},
   "outputs": [
    {
     "name": "stdout",
     "output_type": "stream",
     "text": [
      "<re.Match object; span=(0, 4), match='user'>\n",
      "<re.Match object; span=(0, 4), match='user'>\n",
      "<re.Match object; span=(0, 5), match='user@'>\n",
      "user\n"
     ]
    }
   ],
   "source": [
    "# 긍정 전방 탐색 (?=...)\n",
    "import re\n",
    "\n",
    "text = \"user@example.com user2 user3\"\n",
    "\n",
    "result = re.search(r\"\\w+(?=@)\", text)\n",
    "print(result)  # <re.Match object; span=(0, 4), match='user'>\n",
    "\n",
    "result2 = re.search(r\"\\w+[^@]\", text)\n",
    "print(result2)  # <re.Match object; span=(0, 4), match='user'>\n",
    "\n",
    "result3 = re.search(r\"(\\w+)@\", text)\n",
    "print(result3)  # <re.Match object; span=(0, 5), match='user@'>\n",
    "print(result3.group(1))  # user"
   ]
  },
  {
   "cell_type": "code",
   "execution_count": 45,
   "id": "f58645ca",
   "metadata": {},
   "outputs": [
    {
     "name": "stdout",
     "output_type": "stream",
     "text": [
      "<re.Match object; span=(7, 10), match='foo'>\n"
     ]
    }
   ],
   "source": [
    "# 부정 전방 탐색 (?!...)\n",
    "import re\n",
    "\n",
    "text = \"foobar fooqux\"\n",
    "\n",
    "result = re.search(r\"foo(?!bar)\", text)\n",
    "print(result)  # <re.Match object; span=(7, 10), match='foo'>"
   ]
  },
  {
   "cell_type": "code",
   "execution_count": 46,
   "id": "85d231df",
   "metadata": {},
   "outputs": [
    {
     "name": "stdout",
     "output_type": "stream",
     "text": [
      "<re.Match object; span=(5, 12), match='example'>\n"
     ]
    }
   ],
   "source": [
    "# 긍정 후방 탐색 (?<=...)\n",
    "import re\n",
    "\n",
    "text = \"user@example.com\"\n",
    "\n",
    "result = re.search(r\"(?<=@)\\w+\", text)\n",
    "print(result)  # <re.Match object; span=(5, 12), match='example'>"
   ]
  },
  {
   "cell_type": "code",
   "execution_count": null,
   "id": "d0ee5ce2",
   "metadata": {},
   "outputs": [
    {
     "name": "stdout",
     "output_type": "stream",
     "text": [
      "<re.Match object; span=(0, 3), match='123'>\n"
     ]
    }
   ],
   "source": [
    "# 부정 후방 탐색 (?<!...)\n",
    "import re\n",
    "\n",
    "text = \"123 $456 789\"\n",
    "\n",
    "result = re.search(r\"(?<!\\$)\\d+\", text)\n",
    "print(result)  # <re.Match object; span=(0, 3), match='123'>"
   ]
  },
  {
   "cell_type": "code",
   "execution_count": null,
   "id": "1a6500b3",
   "metadata": {},
   "outputs": [
    {
     "name": "stdout",
     "output_type": "stream",
     "text": [
      "그룹 캡처: <re.Match object; span=(14, 24), match='ERROR: 404'>\n",
      "탐색 사용: <re.Match object; span=(21, 24), match='404'>\n"
     ]
    }
   ],
   "source": [
    "# 탐색 사용 예시 - ERROR 뒤의 숫자 코드만 확인\n",
    "import re\n",
    "\n",
    "text = \"\"\"\n",
    "INFO: 200 OK\n",
    "ERROR: 404 Not Found\n",
    "DEBUG: process started\n",
    "ERROR: 500 Internal Server Error\n",
    "\"\"\"\n",
    "\n",
    "# 그룹 캡처 방식 → ERROR: 까지 패턴에 포함됨\n",
    "pattern1 = re.compile(r'ERROR: (\\d+)')\n",
    "print(\"그룹 캡처:\", pattern1.search(text))\n",
    "\n",
    "# Lookbehind 방식 → ERROR: 는 결과에 포함되지 않음\n",
    "pattern2 = re.compile(r'(?<=ERROR: )\\d+')\n",
    "print(\"탐색 사용:\", pattern2.search(text))"
   ]
  }
 ],
 "metadata": {
  "kernelspec": {
   "display_name": ".venv",
   "language": "python",
   "name": "python3"
  },
  "language_info": {
   "codemirror_mode": {
    "name": "ipython",
    "version": 3
   },
   "file_extension": ".py",
   "mimetype": "text/x-python",
   "name": "python",
   "nbconvert_exporter": "python",
   "pygments_lexer": "ipython3",
   "version": "3.13.7"
  }
 },
 "nbformat": 4,
 "nbformat_minor": 5
}
