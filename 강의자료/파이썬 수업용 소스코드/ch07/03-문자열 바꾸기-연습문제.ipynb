{
 "cells": [
  {
   "cell_type": "markdown",
   "id": "15bb45ec",
   "metadata": {},
   "source": [
    "### 전화번호 중간자리 숫자 마킹 처리"
   ]
  },
  {
   "cell_type": "code",
   "execution_count": null,
   "id": "dc4bb43d",
   "metadata": {},
   "outputs": [],
   "source": [
    "import re\n",
    "pattern = re.compile(r'(  ①  )')\n",
    "text = '010-8478-8181'\n",
    "change = r'(  ②  )'\n",
    "\n",
    "res = pattern.sub(change, text)\n",
    "print(res)"
   ]
  },
  {
   "cell_type": "markdown",
   "id": "ea5eedb1",
   "metadata": {},
   "source": [
    "### 이메일의 도메인 앞부분 마킹 처리"
   ]
  },
  {
   "cell_type": "code",
   "execution_count": null,
   "id": "40677beb",
   "metadata": {},
   "outputs": [],
   "source": [
    "import re\n",
    "pattern = re.compile(r'(  ①  )')\n",
    "user_list = ['ggoreb@naver.com', 'seorab@gmail.com', 'human@ggoreb.net']\n",
    "change = r'(  ②  )'\n",
    "\n",
    "for user in user_list:\n",
    "  res = pattern.sub(change, user)\n",
    "  print(res)"
   ]
  }
 ],
 "metadata": {
  "kernelspec": {
   "display_name": ".venv",
   "language": "python",
   "name": "python3"
  },
  "language_info": {
   "codemirror_mode": {
    "name": "ipython",
    "version": 3
   },
   "file_extension": ".py",
   "mimetype": "text/x-python",
   "name": "python",
   "nbconvert_exporter": "python",
   "pygments_lexer": "ipython3",
   "version": "3.13.7"
  }
 },
 "nbformat": 4,
 "nbformat_minor": 5
}
