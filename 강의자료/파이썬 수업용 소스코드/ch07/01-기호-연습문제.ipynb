{
 "cells": [
  {
   "cell_type": "markdown",
   "id": "2a77c074",
   "metadata": {},
   "source": [
    "### 사용자 아이디의 유효성 검사하기\n",
    "- 조건 1) 아이디의 시작 문자는 영어이어야 한다.<br>\n",
    "- 조건 2) 영어와 숫자로만 작성되어야 한다.<br>\n",
    "* 힌트) 시작 문자 검사는 match(), 그 외는 search() 사용"
   ]
  },
  {
   "cell_type": "code",
   "execution_count": null,
   "id": "8de36e7d",
   "metadata": {},
   "outputs": [],
   "source": [
    "import re\n",
    "\n",
    "pattern1 = re.compile(r'( ① )')\n",
    "pattern2 = re.compile(r'( ② )')\n",
    "\n",
    "user_id = '( ③ )'\n",
    "\n",
    "result1 = pattern1.match(user_id)\n",
    "result2 = pattern2.search(user_id)\n",
    "\n",
    "if ( ④ ):\n",
    "  print(f'{user_id} <- 가입 가능')\n",
    "else:\n",
    "  print(f'{user_id} <- 가입 불가')"
   ]
  },
  {
   "cell_type": "markdown",
   "id": "07574ba7",
   "metadata": {},
   "source": [
    "### 주민등록번호 유효성 검사하기\n",
    "- 조건 1) 앞자리 숫자는 6자리, 뒷자리 숫자는 7자리로 작성되어야 한다.<br>\n",
    "- 조건 2) 뒷자리의 시작숫자는 1 ~ 4 이어야 한다."
   ]
  },
  {
   "cell_type": "code",
   "execution_count": null,
   "id": "8fbc6f17",
   "metadata": {},
   "outputs": [],
   "source": [
    "import re\n",
    "\n",
    "# pattern = re.compile(r'(  ①  )')\n",
    "\n",
    "text = '791111-5234567'\n",
    "\n",
    "print(text, end=' <- ')\n",
    "\n",
    "result = pattern.search(text)\n",
    "if result:\n",
    "  print('정상')\n",
    "else:\n",
    "  print('올바르지 못한 주민등록번호')"
   ]
  },
  {
   "cell_type": "markdown",
   "id": "8914100d",
   "metadata": {},
   "source": [
    "### 은행 계좌번호 형식 검사하기\n",
    "- 조건 1) 숫자 3자리-숫자2자리-숫자6자리<br>\n",
    "- 조건 2) 첫번째 3자리 숫자의 시작은 반드시 1 이어야 한다.<br>\n",
    "- 조건 3) 두번째 2자리 숫자의 시작은 반드시 1 이어야 한다."
   ]
  },
  {
   "cell_type": "code",
   "execution_count": null,
   "id": "3681fda2",
   "metadata": {},
   "outputs": [],
   "source": [
    "import re\n",
    "\n",
    "# pattern = re.compile('( ① )')\n",
    "\n",
    "text = '123-12-123456'\n",
    "\n",
    "print(text, end=' <- ')\n",
    "\n",
    "result = pattern.search(text)\n",
    "if result:\n",
    "  print('확인되었습니다.')\n",
    "else:\n",
    "  print('계좌번호 다시 확인해주세요.')"
   ]
  },
  {
   "cell_type": "markdown",
   "id": "c4bcd839",
   "metadata": {},
   "source": [
    "### 문자열이 형식에 맞는지 검사하기\n",
    "- 조건 1) '안녕하세요' 문자로 시작<br>\n",
    "- 조건 2) 내용 중 '열심히' 문자 포함<br>\n",
    "- 조건 3) '감사합니다.' 문자로 종료<br>\n",
    "* 힌트) 줄바꿈 문자(\\n)는 . 에 해당되지 않음"
   ]
  },
  {
   "cell_type": "code",
   "execution_count": null,
   "id": "8a1b6296",
   "metadata": {},
   "outputs": [],
   "source": [
    "import re\n",
    "\n",
    "# pattern = re.compile(r'(  ①  )', re.DOTALL)\n",
    "\n",
    "text = '''안녕하세요. 저는 OOO에서 태어났고...\n",
    "열심히 하겠습니다. 감사합니다.'''\n",
    "\n",
    "# 코드 작성 (  ②  )"
   ]
  },
  {
   "cell_type": "markdown",
   "id": "f74a0565",
   "metadata": {},
   "source": [
    "### 문자열의 내용 중 이름과 전화번호 찾아내기"
   ]
  },
  {
   "cell_type": "code",
   "execution_count": null,
   "id": "a164bb05",
   "metadata": {},
   "outputs": [],
   "source": [
    "import re\n",
    "\n",
    "pattern = re.compile(r'(  ①  )')\n",
    "\n",
    "text = '''\n",
    "사용자 정보, 이름: 꼬렙, 전화번호 : 1234, 이메일 : seorab@naver.com\n",
    "'''\n",
    "\n",
    "# 코드 작성 (  ②  )"
   ]
  },
  {
   "cell_type": "markdown",
   "id": "90b03482",
   "metadata": {},
   "source": [
    "### 문자열의 내용 중 이메일 찾아내기"
   ]
  },
  {
   "cell_type": "code",
   "execution_count": null,
   "id": "0111429f",
   "metadata": {},
   "outputs": [],
   "source": [
    "import re\n",
    "\n",
    "pattern = re.compile(r'(  ①  )')\n",
    "\n",
    "text = '''\n",
    "사용자 정보, 이름: 꼬렙, 전화번호 : 1234, 이메일 : seorab@naver.com\n",
    "'''\n",
    "\n",
    "# 코드 작성 (  ②  )"
   ]
  }
 ],
 "metadata": {
  "kernelspec": {
   "display_name": ".venv",
   "language": "python",
   "name": "python3"
  },
  "language_info": {
   "codemirror_mode": {
    "name": "ipython",
    "version": 3
   },
   "file_extension": ".py",
   "mimetype": "text/x-python",
   "name": "python",
   "nbconvert_exporter": "python",
   "pygments_lexer": "ipython3",
   "version": "3.13.7"
  }
 },
 "nbformat": 4,
 "nbformat_minor": 5
}
